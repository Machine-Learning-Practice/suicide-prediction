{
 "cells": [
  {
   "cell_type": "code",
   "execution_count": 1,
   "metadata": {
    "collapsed": true
   },
   "outputs": [],
   "source": [
    "import numpy as np\n",
    "import pandas as pd\n",
    "import matplotlib.pyplot as plt\n",
    "from pathlib import Path\n",
    "import os\n",
    "import warnings\n",
    "from tqdm import tqdm_notebook as tqdm"
   ]
  },
  {
   "cell_type": "code",
   "execution_count": 2,
   "metadata": {
    "collapsed": true
   },
   "outputs": [],
   "source": [
    "np.random.seed(32)"
   ]
  },
  {
   "cell_type": "code",
   "execution_count": 3,
   "metadata": {
    "collapsed": true
   },
   "outputs": [],
   "source": [
    "raw_path = Path('..')/'data'/'raw'\n",
    "proc_path = Path('..')/'data'/'processed'"
   ]
  },
  {
   "cell_type": "code",
   "execution_count": 4,
   "metadata": {
    "collapsed": true
   },
   "outputs": [],
   "source": [
    "with open(raw_path/'raw_disch_full.csv','r') as f:\n",
    "    lines = f.read()\n",
    "lines = lines.split('ryan\\n')"
   ]
  },
  {
   "cell_type": "code",
   "execution_count": 5,
   "metadata": {
    "collapsed": true
   },
   "outputs": [],
   "source": [
    "rows = []\n",
    "weirds = []\n",
    "for line in lines:\n",
    "    row = line.split('||')\n",
    "    if len(row) == 4:\n",
    "        rows.append(row)\n",
    "    else:\n",
    "        weirds.append(line)"
   ]
  },
  {
   "cell_type": "code",
   "execution_count": 6,
   "metadata": {},
   "outputs": [
    {
     "data": {
      "text/html": [
       "<div>\n",
       "<style scoped>\n",
       "    .dataframe tbody tr th:only-of-type {\n",
       "        vertical-align: middle;\n",
       "    }\n",
       "\n",
       "    .dataframe tbody tr th {\n",
       "        vertical-align: top;\n",
       "    }\n",
       "\n",
       "    .dataframe thead th {\n",
       "        text-align: right;\n",
       "    }\n",
       "</style>\n",
       "<table border=\"1\" class=\"dataframe\">\n",
       "  <thead>\n",
       "    <tr style=\"text-align: right;\">\n",
       "      <th></th>\n",
       "      <th>SUBJECT_ID</th>\n",
       "      <th>HADM_ID</th>\n",
       "      <th>TEXT</th>\n",
       "    </tr>\n",
       "  </thead>\n",
       "  <tbody>\n",
       "    <tr>\n",
       "      <th>0</th>\n",
       "      <td>3</td>\n",
       "      <td>145834</td>\n",
       "      <td>Admission Date:  [**2101-10-20**]     Discharg...</td>\n",
       "    </tr>\n",
       "    <tr>\n",
       "      <th>1</th>\n",
       "      <td>4</td>\n",
       "      <td>185777</td>\n",
       "      <td>Admission Date:  [**2191-3-16**]     Discharge...</td>\n",
       "    </tr>\n",
       "    <tr>\n",
       "      <th>2</th>\n",
       "      <td>6</td>\n",
       "      <td>107064</td>\n",
       "      <td>Admission Date: [**2175-5-30**]        Dischar...</td>\n",
       "    </tr>\n",
       "    <tr>\n",
       "      <th>3</th>\n",
       "      <td>9</td>\n",
       "      <td>150750</td>\n",
       "      <td>Admission Date:  [**2149-11-9**]       Dischar...</td>\n",
       "    </tr>\n",
       "    <tr>\n",
       "      <th>4</th>\n",
       "      <td>10</td>\n",
       "      <td>184167</td>\n",
       "      <td>Admission Date:  [**2103-6-28**]       Dischar...</td>\n",
       "    </tr>\n",
       "  </tbody>\n",
       "</table>\n",
       "</div>"
      ],
      "text/plain": [
       "   SUBJECT_ID  HADM_ID                                               TEXT\n",
       "0           3   145834  Admission Date:  [**2101-10-20**]     Discharg...\n",
       "1           4   185777  Admission Date:  [**2191-3-16**]     Discharge...\n",
       "2           6   107064  Admission Date: [**2175-5-30**]        Dischar...\n",
       "3           9   150750  Admission Date:  [**2149-11-9**]       Dischar...\n",
       "4          10   184167  Admission Date:  [**2103-6-28**]       Dischar..."
      ]
     },
     "execution_count": 6,
     "metadata": {},
     "output_type": "execute_result"
    }
   ],
   "source": [
    "text_df = pd.DataFrame(columns=rows[0], data=rows[1:])\n",
    "text_df = text_df.drop('CHARTTIME',axis=1) # they're all missing\n",
    "text_df[['SUBJECT_ID','HADM_ID']] = text_df[['SUBJECT_ID','HADM_ID']].astype(int)\n",
    "text_df = text_df.groupby(['SUBJECT_ID','HADM_ID']).TEXT.apply(lambda x: '\\n\\n<NEWNOTE>\\n\\n'.join(x)).reset_index()\n",
    "text_df.sort_values('SUBJECT_ID').head(5)"
   ]
  },
  {
   "cell_type": "code",
   "execution_count": 7,
   "metadata": {},
   "outputs": [
    {
     "data": {
      "text/html": [
       "<div>\n",
       "<style scoped>\n",
       "    .dataframe tbody tr th:only-of-type {\n",
       "        vertical-align: middle;\n",
       "    }\n",
       "\n",
       "    .dataframe tbody tr th {\n",
       "        vertical-align: top;\n",
       "    }\n",
       "\n",
       "    .dataframe thead th {\n",
       "        text-align: right;\n",
       "    }\n",
       "</style>\n",
       "<table border=\"1\" class=\"dataframe\">\n",
       "  <thead>\n",
       "    <tr style=\"text-align: right;\">\n",
       "      <th></th>\n",
       "      <th>SUBJECT_ID</th>\n",
       "      <th>HADM_IDS</th>\n",
       "      <th>DIAGNOSIS</th>\n",
       "      <th>D_LABEL</th>\n",
       "      <th>READM_30</th>\n",
       "      <th>READM_90</th>\n",
       "      <th>READM_365</th>\n",
       "      <th>DEATH_30</th>\n",
       "      <th>DEATH_90</th>\n",
       "      <th>DEATH_365</th>\n",
       "      <th>DEATH_INHOSPITAL</th>\n",
       "    </tr>\n",
       "  </thead>\n",
       "  <tbody>\n",
       "    <tr>\n",
       "      <th>0</th>\n",
       "      <td>2</td>\n",
       "      <td>[163353]</td>\n",
       "      <td>['V290', 'V3001', 'V053']</td>\n",
       "      <td>0</td>\n",
       "      <td>0</td>\n",
       "      <td>0</td>\n",
       "      <td>0</td>\n",
       "      <td>0</td>\n",
       "      <td>0</td>\n",
       "      <td>0</td>\n",
       "      <td>0</td>\n",
       "    </tr>\n",
       "    <tr>\n",
       "      <th>1</th>\n",
       "      <td>3</td>\n",
       "      <td>[145834]</td>\n",
       "      <td>['2639', '4254', '4275', '4280', '41071', '584...</td>\n",
       "      <td>0</td>\n",
       "      <td>0</td>\n",
       "      <td>0</td>\n",
       "      <td>0</td>\n",
       "      <td>0</td>\n",
       "      <td>0</td>\n",
       "      <td>1</td>\n",
       "      <td>0</td>\n",
       "    </tr>\n",
       "    <tr>\n",
       "      <th>2</th>\n",
       "      <td>4</td>\n",
       "      <td>[185777]</td>\n",
       "      <td>['5715', '7994', '042', '7907', '04111', 'V090...</td>\n",
       "      <td>1</td>\n",
       "      <td>0</td>\n",
       "      <td>0</td>\n",
       "      <td>0</td>\n",
       "      <td>0</td>\n",
       "      <td>0</td>\n",
       "      <td>0</td>\n",
       "      <td>0</td>\n",
       "    </tr>\n",
       "    <tr>\n",
       "      <th>3</th>\n",
       "      <td>5</td>\n",
       "      <td>[178980]</td>\n",
       "      <td>['V290', 'V3000', 'V053']</td>\n",
       "      <td>0</td>\n",
       "      <td>0</td>\n",
       "      <td>0</td>\n",
       "      <td>0</td>\n",
       "      <td>0</td>\n",
       "      <td>0</td>\n",
       "      <td>0</td>\n",
       "      <td>0</td>\n",
       "    </tr>\n",
       "    <tr>\n",
       "      <th>4</th>\n",
       "      <td>6</td>\n",
       "      <td>[107064]</td>\n",
       "      <td>['40391', '2766', '2753', '2767', '9972', '444...</td>\n",
       "      <td>0</td>\n",
       "      <td>0</td>\n",
       "      <td>0</td>\n",
       "      <td>0</td>\n",
       "      <td>0</td>\n",
       "      <td>0</td>\n",
       "      <td>0</td>\n",
       "      <td>0</td>\n",
       "    </tr>\n",
       "  </tbody>\n",
       "</table>\n",
       "</div>"
      ],
      "text/plain": [
       "   SUBJECT_ID  HADM_IDS                                          DIAGNOSIS  \\\n",
       "0           2  [163353]                          ['V290', 'V3001', 'V053']   \n",
       "1           3  [145834]  ['2639', '4254', '4275', '4280', '41071', '584...   \n",
       "2           4  [185777]  ['5715', '7994', '042', '7907', '04111', 'V090...   \n",
       "3           5  [178980]                          ['V290', 'V3000', 'V053']   \n",
       "4           6  [107064]  ['40391', '2766', '2753', '2767', '9972', '444...   \n",
       "\n",
       "   D_LABEL  READM_30  READM_90  READM_365  DEATH_30  DEATH_90  DEATH_365  \\\n",
       "0        0         0         0          0         0         0          0   \n",
       "1        0         0         0          0         0         0          1   \n",
       "2        1         0         0          0         0         0          0   \n",
       "3        0         0         0          0         0         0          0   \n",
       "4        0         0         0          0         0         0          0   \n",
       "\n",
       "   DEATH_INHOSPITAL  \n",
       "0                 0  \n",
       "1                 0  \n",
       "2                 0  \n",
       "3                 0  \n",
       "4                 0  "
      ]
     },
     "execution_count": 7,
     "metadata": {},
     "output_type": "execute_result"
    }
   ],
   "source": [
    "df_all = pd.read_csv(raw_path/'despair_labels.csv')\n",
    "df_all.head(5)"
   ]
  },
  {
   "cell_type": "code",
   "execution_count": 8,
   "metadata": {},
   "outputs": [
    {
     "name": "stdout",
     "output_type": "stream",
     "text": [
      "% IDs with 90-day readmit or death:  24.81 %\n"
     ]
    }
   ],
   "source": [
    "tmp = df_all[['READM_90','DEATH_90']].sum(axis=1)\n",
    "frac = len(tmp[tmp>0])/len(tmp) # fraction of ids with at least one readmit/death event\n",
    "print('% IDs with 90-day readmit or death: ',round(frac,4)*100,'%')"
   ]
  },
  {
   "cell_type": "code",
   "execution_count": 41,
   "metadata": {},
   "outputs": [
    {
     "data": {
      "text/html": [
       "<div>\n",
       "<style scoped>\n",
       "    .dataframe tbody tr th:only-of-type {\n",
       "        vertical-align: middle;\n",
       "    }\n",
       "\n",
       "    .dataframe tbody tr th {\n",
       "        vertical-align: top;\n",
       "    }\n",
       "\n",
       "    .dataframe thead th {\n",
       "        text-align: right;\n",
       "    }\n",
       "</style>\n",
       "<table border=\"1\" class=\"dataframe\">\n",
       "  <thead>\n",
       "    <tr style=\"text-align: right;\">\n",
       "      <th></th>\n",
       "      <th>subject_id</th>\n",
       "      <th>hadm_ids</th>\n",
       "      <th>labels</th>\n",
       "      <th>text</th>\n",
       "    </tr>\n",
       "  </thead>\n",
       "  <tbody>\n",
       "    <tr>\n",
       "      <th>0</th>\n",
       "      <td>2</td>\n",
       "      <td>163353</td>\n",
       "      <td>0</td>\n",
       "      <td></td>\n",
       "    </tr>\n",
       "    <tr>\n",
       "      <th>1</th>\n",
       "      <td>3</td>\n",
       "      <td>145834</td>\n",
       "      <td>0</td>\n",
       "      <td></td>\n",
       "    </tr>\n",
       "    <tr>\n",
       "      <th>2</th>\n",
       "      <td>4</td>\n",
       "      <td>185777</td>\n",
       "      <td>0</td>\n",
       "      <td></td>\n",
       "    </tr>\n",
       "    <tr>\n",
       "      <th>3</th>\n",
       "      <td>5</td>\n",
       "      <td>178980</td>\n",
       "      <td>0</td>\n",
       "      <td></td>\n",
       "    </tr>\n",
       "    <tr>\n",
       "      <th>4</th>\n",
       "      <td>6</td>\n",
       "      <td>107064</td>\n",
       "      <td>0</td>\n",
       "      <td></td>\n",
       "    </tr>\n",
       "  </tbody>\n",
       "</table>\n",
       "</div>"
      ],
      "text/plain": [
       "   subject_id hadm_ids  labels text\n",
       "0           2   163353       0     \n",
       "1           3   145834       0     \n",
       "2           4   185777       0     \n",
       "3           5   178980       0     \n",
       "4           6   107064       0     "
      ]
     },
     "execution_count": 41,
     "metadata": {},
     "output_type": "execute_result"
    }
   ],
   "source": [
    "warnings.filterwarnings('ignore')\n",
    "\n",
    "# subset to just 90-day cases and create empty text column\n",
    "df = df_all[['SUBJECT_ID','HADM_IDS','READM_90','DEATH_90']]\n",
    "df['labels'] = df[['READM_90','DEATH_90']].sum(axis=1).replace(2,1)\n",
    "df = df.drop(['READM_90','DEATH_90'],axis=1)\n",
    "df.columns = [s.lower() for s in df.columns]\n",
    "df['hadm_ids'] = df['hadm_ids'].apply(lambda x: ''.join([n for n in x[1:-1].split(',')]))\n",
    "df['text'] = ''\n",
    "df.head()"
   ]
  },
  {
   "cell_type": "code",
   "execution_count": 42,
   "metadata": {},
   "outputs": [
    {
     "name": "stdout",
     "output_type": "stream",
     "text": [
      "<class 'pandas.core.frame.DataFrame'>\n",
      "RangeIndex: 58976 entries, 0 to 58975\n",
      "Data columns (total 4 columns):\n",
      "subject_id    58976 non-null int64\n",
      "hadm_ids      58976 non-null object\n",
      "labels        58976 non-null int64\n",
      "text          58976 non-null object\n",
      "dtypes: int64(2), object(2)\n",
      "memory usage: 1.8+ MB\n"
     ]
    }
   ],
   "source": [
    "df.info()"
   ]
  },
  {
   "cell_type": "code",
   "execution_count": 43,
   "metadata": {},
   "outputs": [
    {
     "data": {
      "application/vnd.jupyter.widget-view+json": {
       "model_id": "f00dcb318f9e48b6bcf2f915acf70496",
       "version_major": 2,
       "version_minor": 0
      },
      "text/plain": [
       "HBox(children=(IntProgress(value=0, max=58976), HTML(value='')))"
      ]
     },
     "metadata": {},
     "output_type": "display_data"
    },
    {
     "name": "stdout",
     "output_type": "stream",
     "text": [
      "\n"
     ]
    }
   ],
   "source": [
    "all_text_list = []\n",
    "for hadm_ids in tqdm(df.hadm_ids):\n",
    "    text_list = []\n",
    "    for hadm_id in hadm_ids.split(' '):\n",
    "        try:\n",
    "            text = text_df.TEXT[text_df.HADM_ID == int(hadm_id)]\n",
    "            text = text.item()\n",
    "            text_list.append(text)\n",
    "        except ValueError:\n",
    "            continue\n",
    "    all_text = '\\n\\n<NEWNOTE>\\n\\n'.join(text_list)\n",
    "    all_text_list.append(all_text)\n",
    "df.text = all_text_list"
   ]
  },
  {
   "cell_type": "code",
   "execution_count": 51,
   "metadata": {
    "collapsed": true
   },
   "outputs": [],
   "source": [
    "df.to_csv(proc_path/'90_day_data_preprossed.csv',index=False)"
   ]
  },
  {
   "cell_type": "code",
   "execution_count": null,
   "metadata": {
    "collapsed": true
   },
   "outputs": [],
   "source": []
  },
  {
   "cell_type": "code",
   "execution_count": null,
   "metadata": {
    "collapsed": true
   },
   "outputs": [],
   "source": []
  }
 ],
 "metadata": {
  "kernelspec": {
   "display_name": "Python 3",
   "language": "python",
   "name": "python3"
  },
  "language_info": {
   "codemirror_mode": {
    "name": "ipython",
    "version": 3
   },
   "file_extension": ".py",
   "mimetype": "text/x-python",
   "name": "python",
   "nbconvert_exporter": "python",
   "pygments_lexer": "ipython3",
   "version": "3.6.2"
  }
 },
 "nbformat": 4,
 "nbformat_minor": 2
}
