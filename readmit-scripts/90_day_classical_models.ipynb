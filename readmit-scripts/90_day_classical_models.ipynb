{
 "cells": [
  {
   "cell_type": "code",
   "execution_count": 2,
   "metadata": {},
   "outputs": [
    {
     "name": "stderr",
     "output_type": "stream",
     "text": [
      "[nltk_data] Downloading package stopwords to\n",
      "[nltk_data]     /home/paperspace/nltk_data...\n",
      "[nltk_data]   Package stopwords is already up-to-date!\n"
     ]
    }
   ],
   "source": [
    "import numpy as np\n",
    "import matplotlib.pyplot as plt\n",
    "import pandas as pd\n",
    "\n",
    "from sklearn.feature_extraction.text import CountVectorizer,TfidfTransformer\n",
    "from sklearn.naive_bayes import MultinomialNB\n",
    "from sklearn.linear_model import LogisticRegression\n",
    "from sklearn.neighbors import KNeighborsClassifier\n",
    "from sklearn.svm import SVC, LinearSVC\n",
    "from sklearn.ensemble import RandomForestClassifier, GradientBoostingClassifier\n",
    "from sklearn.decomposition import TruncatedSVD, PCA\n",
    "from sklearn.model_selection import train_test_split\n",
    "from sklearn.metrics import roc_auc_score, f1_score, confusion_matrix, accuracy_score\n",
    "from sklearn.metrics import cohen_kappa_score, precision_score, recall_score\n",
    "from sklearn.externals import joblib\n",
    "\n",
    "from imblearn.over_sampling import SMOTE, ADASYN, RandomOverSampler\n",
    "from imblearn.under_sampling import RandomUnderSampler, ClusterCentroids\n",
    "from scipy import sparse\n",
    "import xgboost as xgb\n",
    "from pathlib import Path\n",
    "\n",
    "import re\n",
    "from tqdm.auto import tqdm\n",
    "\n",
    "from wordcloud import WordCloud\n",
    "import spacy\n",
    "\n",
    "import nltk\n",
    "from nltk.corpus import stopwords\n",
    "\n",
    "nltk.download('stopwords')\n",
    "tqdm.pandas()\n",
    "np.random.seed(42)"
   ]
  },
  {
   "cell_type": "code",
   "execution_count": 3,
   "metadata": {},
   "outputs": [],
   "source": [
    "path = Path('..')/'data/processed'\n",
    "\n",
    "df = pd.read_csv(path/'90_day_data_postprocessed_no_hospital_deaths.csv')"
   ]
  },
  {
   "cell_type": "code",
   "execution_count": 4,
   "metadata": {},
   "outputs": [
    {
     "name": "stdout",
     "output_type": "stream",
     "text": [
      "(47805, 10000)\n"
     ]
    }
   ],
   "source": [
    "cv = CountVectorizer(analyzer=str.split,ngram_range=(1,2),stop_words=None,lowercase=False,max_features=10000,max_df=0.9,min_df=1e-4)\n",
    "X_counts = cv.fit_transform(df.text_processed)\n",
    "tfidf_tr = TfidfTransformer()\n",
    "X_tfidf = tfidf_tr.fit_transform(X_counts)\n",
    "print(X_tfidf.shape)"
   ]
  },
  {
   "cell_type": "code",
   "execution_count": 6,
   "metadata": {},
   "outputs": [
    {
     "name": "stdout",
     "output_type": "stream",
     "text": [
      "original training set size:  38244\n",
      "new training set size:  13660\n",
      "number of negative samples:  6830\n",
      "number of positive samples:  6830\n"
     ]
    }
   ],
   "source": [
    "X_train,X_test,y_train,y_test = train_test_split(X_tfidf, df['labels'],test_size=0.2)\n",
    "#X_train_bal,y_train_bal = SMOTE().fit_sample(X_train,y_train)\n",
    "X_train_bal,y_train_bal = RandomUnderSampler().fit_sample(X_train,y_train)\n",
    "print('original training set size: ',len(y_train))\n",
    "print('new training set size: ',len(y_train_bal))\n",
    "print('number of negative samples: ',len(y_train_bal[y_train_bal==0]))\n",
    "print('number of positive samples: ',len(y_train_bal[y_train_bal==1]))"
   ]
  },
  {
   "cell_type": "code",
   "execution_count": 7,
   "metadata": {},
   "outputs": [],
   "source": [
    "def get_scores(y_train,yhat_train,y_test,yhat_test):\n",
    "    print('--Training Set Scores--')\n",
    "    print('accuracy: ', round(accuracy_score(y_train,yhat_train),4))\n",
    "    print('precision: ', round(precision_score(y_train,yhat_train),4))\n",
    "    print('recall: ', round(recall_score(y_train,yhat_train),4))\n",
    "    print('f1: ', round(f1_score(y_train,yhat_train),4))\n",
    "    print('auc: ', round(roc_auc_score(y_train,yhat_train),4))\n",
    "    print('confusion matrix:\\n', confusion_matrix(y_train,yhat_train))\n",
    "    print()\n",
    "    print('--Test Set Scores--')\n",
    "    print('accuracy: ', round(accuracy_score(y_test,yhat_test),4))\n",
    "    print('precision: ', round(precision_score(y_test,yhat_test),4))\n",
    "    print('recall: ', round(recall_score(y_test,yhat_test),4))\n",
    "    print('f1: ', round(f1_score(y_test,yhat_test),4))\n",
    "    print('auc: ', round(roc_auc_score(y_test,yhat_test),4))\n",
    "    print('confusion matrix:\\n', confusion_matrix(y_test,yhat_test))\n",
    "    \n",
    "def plot_feature_importances(model,vectorizer,model_type='rf',max_num=10):\n",
    "    if model_type in ['rf','xgb']:\n",
    "        importances = model.feature_importances_\n",
    "    if model_type == 'lr':\n",
    "        importances = np.abs(model.coef_).flatten()\n",
    "    \n",
    "    str_to_int = vectorizer.vocabulary_\n",
    "    int_to_str = {val:key for key,val in str_to_int.items()}\n",
    "    \n",
    "    top_importances = -np.sort(-importances)[:max_num]\n",
    "    top_importances = np.sort(top_importances)\n",
    "    \n",
    "    #std = np.std([tree.feature_importances_ for tree in model.estimators_],axis=0)\n",
    "    \n",
    "    top_features = np.argsort(-importances)[:max_num]\n",
    "    top_words = [int_to_str[i] for i in top_features]\n",
    "    top_words = reversed(top_words)\n",
    "    \n",
    "    plt.figure()\n",
    "    plt.title('Feature importances')\n",
    "    plt.barh(range(max_num), top_importances,\n",
    "             color='r', align='center')\n",
    "    plt.yticks(range(max_num), top_words)\n",
    "    plt.ylim([-1, max_num])\n",
    "    plt.show()"
   ]
  },
  {
   "cell_type": "code",
   "execution_count": 8,
   "metadata": {},
   "outputs": [
    {
     "name": "stdout",
     "output_type": "stream",
     "text": [
      "--Training Set Scores--\n",
      "accuracy:  0.7473\n",
      "precision:  0.7384\n",
      "recall:  0.766\n",
      "f1:  0.7519\n",
      "auc:  0.7473\n",
      "confusion matrix:\n",
      " [[4976 1854]\n",
      " [1598 5232]]\n",
      "\n",
      "--Test Set Scores--\n",
      "accuracy:  0.6873\n",
      "precision:  0.3276\n",
      "recall:  0.7212\n",
      "f1:  0.4506\n",
      "auc:  0.7006\n",
      "confusion matrix:\n",
      " [[5345 2516]\n",
      " [ 474 1226]]\n"
     ]
    },
    {
     "data": {
      "image/png": "[encoded data removed]",
      "text/plain": [
       "<matplotlib.figure.Figure at 0x7f69f9a7c0b8>"
      ]
     },
     "metadata": {},
     "output_type": "display_data"
    }
   ],
   "source": [
    "model_rf = RandomForestClassifier(n_estimators=60,min_samples_leaf=50,max_features='auto',min_samples_split=5,n_jobs=-1)\n",
    "model_rf.fit(X_train_bal,y_train_bal)\n",
    "\n",
    "yhat_train_rf = model_rf.predict(X_train_bal)\n",
    "yhat_test_rf = model_rf.predict(X_test)\n",
    "get_scores(y_train_bal,yhat_train_rf,y_test,yhat_test_rf)\n",
    "\n",
    "plot_feature_importances(model_rf,cv,model_type='rf',max_num=20)"
   ]
  },
  {
   "cell_type": "code",
   "execution_count": 11,
   "metadata": {},
   "outputs": [
    {
     "name": "stdout",
     "output_type": "stream",
     "text": [
      "--Training Set Scores--\n",
      "accuracy:  0.7897\n",
      "precision:  0.7879\n",
      "recall:  0.7928\n",
      "f1:  0.7903\n",
      "auc:  0.7897\n",
      "confusion matrix:\n",
      " [[5372 1458]\n",
      " [1415 5415]]\n",
      "\n",
      "--Test Set Scores--\n",
      "accuracy:  0.7257\n",
      "precision:  0.366\n",
      "recall:  0.7418\n",
      "f1:  0.4902\n",
      "auc:  0.732\n",
      "confusion matrix:\n",
      " [[5677 2184]\n",
      " [ 439 1261]]\n"
     ]
    },
    {
     "data": {
      "image/png": "[encoded data removed]",
      "text/plain": [
       "<matplotlib.figure.Figure at 0x7f69f997dcc0>"
      ]
     },
     "metadata": {},
     "output_type": "display_data"
    }
   ],
   "source": [
    "model_lr = LogisticRegression(C=1.)\n",
    "model_lr.fit(X_train_bal,y_train_bal)\n",
    "\n",
    "yhat_train_lr = model_lr.predict(X_train_bal)\n",
    "yhat_test_lr = model_lr.predict(X_test)\n",
    "get_scores(y_train_bal,yhat_train_lr,y_test,yhat_test_lr)\n",
    "\n",
    "plot_feature_importances(model_lr,cv,model_type='lr',max_num=20)"
   ]
  },
  {
   "cell_type": "code",
   "execution_count": 12,
   "metadata": {},
   "outputs": [
    {
     "name": "stdout",
     "output_type": "stream",
     "text": [
      "--Training Set Scores--\n",
      "accuracy:  0.7225\n",
      "precision:  0.7264\n",
      "recall:  0.7138\n",
      "f1:  0.72\n",
      "auc:  0.7225\n",
      "confusion matrix:\n",
      " [[4994 1836]\n",
      " [1955 4875]]\n",
      "\n",
      "--Test Set Scores--\n",
      "accuracy:  0.7201\n",
      "precision:  0.3543\n",
      "recall:  0.6982\n",
      "f1:  0.4701\n",
      "auc:  0.7115\n",
      "confusion matrix:\n",
      " [[5698 2163]\n",
      " [ 513 1187]]\n"
     ]
    },
    {
     "data": {
      "image/png": "[encoded data removed]",
      "text/plain": [
       "<matplotlib.figure.Figure at 0x7f69fa245dd8>"
      ]
     },
     "metadata": {},
     "output_type": "display_data"
    }
   ],
   "source": [
    "import warnings; warnings.filterwarnings('ignore')\n",
    "\n",
    "model_xgb = xgb.XGBClassifier(n_estimators=30,n_jobs=8)\n",
    "model_xgb.fit(X_train_bal,y_train_bal)\n",
    "\n",
    "yhat_train_xgb = model_xgb.predict(X_train_bal)\n",
    "yhat_test_xgb = model_xgb.predict(X_test)\n",
    "get_scores(y_train_bal,yhat_train_xgb,y_test,yhat_test_xgb)\n",
    "\n",
    "plot_feature_importances(model_xgb,cv,model_type='xgb',max_num=20)"
   ]
  },
  {
   "cell_type": "code",
   "execution_count": 13,
   "metadata": {},
   "outputs": [
    {
     "name": "stdout",
     "output_type": "stream",
     "text": [
      "--Training Set Scores--\n",
      "accuracy:  0.7558\n",
      "precision:  0.7519\n",
      "recall:  0.7635\n",
      "f1:  0.7577\n",
      "auc:  0.7558\n",
      "confusion matrix:\n",
      " [[5109 1721]\n",
      " [1615 5215]]\n",
      "\n",
      "--Test Set Scores--\n",
      "accuracy:  0.7153\n",
      "precision:  0.3539\n",
      "recall:  0.7282\n",
      "f1:  0.4763\n",
      "auc:  0.7204\n",
      "confusion matrix:\n",
      " [[5601 2260]\n",
      " [ 462 1238]]\n"
     ]
    }
   ],
   "source": [
    "yhat_train_ensemble = np.median([yhat_train_rf,yhat_train_lr,yhat_train_xgb],axis=0)\n",
    "yhat_test_ensemble = np.median([yhat_test_rf,yhat_test_lr,yhat_test_xgb],axis=0)\n",
    "get_scores(y_train_bal,yhat_train_ensemble,y_test,yhat_test_ensemble)"
   ]
  },
  {
   "cell_type": "code",
   "execution_count": 14,
   "metadata": {},
   "outputs": [
    {
     "name": "stdout",
     "output_type": "stream",
     "text": [
      "--Training Set Scores--\n",
      "accuracy:  0.8222\n",
      "precision:  0.0\n",
      "recall:  0.0\n",
      "f1:  0.0\n",
      "auc:  0.5\n",
      "confusion matrix:\n",
      " [[7861    0]\n",
      " [1700    0]]\n",
      "\n",
      "--Test Set Scores--\n",
      "accuracy:  0.8222\n",
      "precision:  0.0\n",
      "recall:  0.0\n",
      "f1:  0.0\n",
      "auc:  0.5\n",
      "confusion matrix:\n",
      " [[7861    0]\n",
      " [1700    0]]\n"
     ]
    }
   ],
   "source": [
    "warnings.filterwarnings('ignore')\n",
    "\n",
    "yhat_test = np.zeros(y_test.shape)\n",
    "get_scores(y_test,yhat_test,y_test,yhat_test)"
   ]
  },
  {
   "cell_type": "code",
   "execution_count": 18,
   "metadata": {},
   "outputs": [
    {
     "data": {
      "text/plain": [
       "(array([ 460.,  871., 1638., 1575., 1345., 1203., 1019.,  757.,  555.,\n",
       "         138.]),\n",
       " array([0.07445992, 0.15683269, 0.23920547, 0.32157824, 0.40395101,\n",
       "        0.48632378, 0.56869655, 0.65106932, 0.73344209, 0.81581486,\n",
       "        0.89818763]),\n",
       " <a list of 10 Patch objects>)"
      ]
     },
     "execution_count": 18,
     "metadata": {},
     "output_type": "execute_result"
    },
    {
     "data": {
      "image/png": "[encoded data removed]",
      "text/plain": [
       "<matplotlib.figure.Figure at 0x7f69fa5f2550>"
      ]
     },
     "metadata": {},
     "output_type": "display_data"
    }
   ],
   "source": [
    "pred_probs = np.mean([model_rf.predict_proba(X_test),model_lr.predict_proba(X_test),model_xgb.predict_proba(X_test)],\n",
    "                       axis=0)\n",
    "plt.hist(pred_probs[:,1])"
   ]
  },
  {
   "cell_type": "code",
   "execution_count": null,
   "metadata": {},
   "outputs": [],
   "source": [
    "model_svm = SVC(C=1.,kernel='linear')\n",
    "model_svm.fit(X_train_bal,y_train_bal)\n",
    "\n",
    "yhat_train_svm = model_svm.predict(X_train_bal)\n",
    "yhat_test_svm = model_svm.predict(X_test)\n",
    "get_scores(y_train_bal,yhat_train_svm,y_test,yhat_test_svm)\n",
    "\n",
    "# plot_feature_importances(model,cv,model_type='lr',max_num=20)"
   ]
  },
  {
   "cell_type": "code",
   "execution_count": null,
   "metadata": {},
   "outputs": [],
   "source": []
  },
  {
   "cell_type": "code",
   "execution_count": null,
   "metadata": {},
   "outputs": [],
   "source": []
  }
 ],
 "metadata": {
  "kernelspec": {
   "display_name": "Python 3",
   "language": "python",
   "name": "python3"
  },
  "language_info": {
   "codemirror_mode": {
    "name": "ipython",
    "version": 3
   },
   "file_extension": ".py",
   "mimetype": "text/x-python",
   "name": "python",
   "nbconvert_exporter": "python",
   "pygments_lexer": "ipython3",
   "version": "3.6.4"
  }
 },
 "nbformat": 4,
 "nbformat_minor": 2
}
