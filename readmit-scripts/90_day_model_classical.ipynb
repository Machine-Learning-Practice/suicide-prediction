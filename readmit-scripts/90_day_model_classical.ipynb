{
 "cells": [
  {
   "cell_type": "code",
   "execution_count": 69,
   "metadata": {},
   "outputs": [
    {
     "name": "stdout",
     "output_type": "stream",
     "text": [
      "[nltk_data] Downloading package stopwords to\n",
      "[nltk_data]     /Users/ryankingery/nltk_data...\n",
      "[nltk_data]   Package stopwords is already up-to-date!\n"
     ]
    }
   ],
   "source": [
    "import numpy as np\n",
    "import matplotlib.pyplot as plt\n",
    "import pandas as pd\n",
    "\n",
    "from sklearn.feature_extraction.text import CountVectorizer,TfidfTransformer\n",
    "from sklearn.naive_bayes import MultinomialNB\n",
    "from sklearn.linear_model import LogisticRegression\n",
    "from sklearn.neighbors import KNeighborsClassifier\n",
    "from sklearn.svm import SVC, LinearSVC\n",
    "from sklearn.ensemble import RandomForestClassifier, GradientBoostingClassifier\n",
    "from sklearn.decomposition import TruncatedSVD, PCA\n",
    "from sklearn.model_selection import train_test_split\n",
    "from sklearn.metrics import roc_auc_score, f1_score, confusion_matrix, accuracy_score\n",
    "from sklearn.metrics import cohen_kappa_score, precision_score, recall_score\n",
    "from sklearn.externals import joblib\n",
    "\n",
    "from imblearn.over_sampling import SMOTE, ADASYN\n",
    "from scipy import sparse\n",
    "import xgboost as xgb\n",
    "from pathlib import Path\n",
    "\n",
    "import re\n",
    "from tqdm.auto import tqdm\n",
    "\n",
    "from wordcloud import WordCloud\n",
    "import spacy\n",
    "\n",
    "import nltk\n",
    "from nltk.corpus import stopwords\n",
    "\n",
    "nltk.download('stopwords')\n",
    "tqdm.pandas()\n",
    "np.random.seed(42)"
   ]
  },
  {
   "cell_type": "code",
   "execution_count": 2,
   "metadata": {
    "collapsed": true
   },
   "outputs": [],
   "source": [
    "data_path = Path('..')/'data/processed'"
   ]
  },
  {
   "cell_type": "code",
   "execution_count": 3,
   "metadata": {
    "collapsed": true
   },
   "outputs": [],
   "source": [
    "def get_data(path):\n",
    "    df = pd.read_csv(path/'90_day_data.csv')   \n",
    "    df = df.sample(frac=1).reset_index(drop=True)   \n",
    "    return df\n",
    "\n",
    "df = get_data(data_path)\n",
    "df = df.dropna()"
   ]
  },
  {
   "cell_type": "code",
   "execution_count": 4,
   "metadata": {},
   "outputs": [
    {
     "name": "stdout",
     "output_type": "stream",
     "text": [
      "Admission Date:  [**2145-8-18**]       Discharge Date:  [**2145-9-6**]\n",
      "\n",
      "\n",
      "Service: ACOVE\n",
      "\n",
      "HISTORY OF PRESENT ILLNESS:  This is an 89-year-old Caucasian\n",
      "female with a past medical history of depression and dementia\n",
      "who was admitted on [**2145-8-18**] following an unwitnessed fall.\n",
      "The patient in the emergency department was complaining of\n",
      "distal radius and ulnar fracture.  She also had a right pubic\n",
      "ramus fracture.  Her chest x-ray revealed a left pleural\n",
      "effusion which was taped with a chest tube placed.  Chest\n",
      "tubes had poor drainage.  The patient went into unexplained\n",
      "respiratory arrest which required intubation.  The patient\n",
      "was then sent to the Intensive Care Unit.  While in the\n",
      "Intensive Care Unit the pleural effusion re-accumulated and\n",
      "drainage from the chest tube.  The Intensive Care Unit team\n",
      "tried to extubate the patient on four different occasions.\n",
      "The first two failed due to thick secretions and hypoxia.\n",
      "The third attempt at extubating failed due to a stridor that\n",
      "failed to respond to steroids or racemic epinephrine.  The\n",
      "patient was successfully extubated on the fourth attempt on\n",
      "[**2145-8-28**].\n",
      "\n",
      "The patient was then transferred to the main floor on the\n",
      "[**9-2**].  On the [**9-4**] the patients clinical\n",
      "status deteriorated and a portable chest x-ray showed\n",
      "increased pulmonary edema, bilateral pleural effusions.  The\n",
      "situation was discussed with the patient's son and it was\n",
      "determined at that point to make the patient comfort measures\n",
      "only.  The patient was placed on a Morphine drip, Scolamine\n",
      "patch to decrease the secretions.  She remained pain free\n",
      "until her discharge on the [**9-6**] to hospice care.\n",
      "\n",
      "PHYSICAL EXAMINATION:  The patient was afebrile.  A blood\n",
      "pressure of 120/60, heart rate 99 beats per minute,\n",
      "respiratory rate 18 beats per minute, sating at 96% on six\n",
      "liters of oxygen.  In general this is an elderly frail\n",
      "apparent woman not responsive to voice stimuli.  Unable to\n",
      "track.  She appears in no acute distress.  No apparent pain.\n",
      "Her pupils are equal, round, and reactive to light and\n",
      "accommodation.  Her mucous membranes were moist.  Her neck\n",
      "showed no lymphadenopathy, no jugular venous distention.  She\n",
      "was using her accessory muscles to breath.  Pulmonary:  The\n",
      "patient was unable to cooperate with any pulmonary exam.  She\n",
      "does show decreased breath sounds, increased rales and\n",
      "rhonchi to the lower half of both lobes bilaterally.  Her\n",
      "heart was regular rate and rhythm.  Normal S1 and S2.  No\n",
      "murmur, gallops or rubs.  Her abdomen was soft, nontender,\n",
      "nondistended with bowel sounds.  Her extremities showed +2\n",
      "edema, no cyanosis or clubbing.  Neurologically she is not\n",
      "responsive to voice, does not answer questions appropriately.\n",
      "She will move extremities to painful stimuli.  The patient\n",
      "had multiple radiographic studies while in the hospital.  Her\n",
      "last chest x-ray was performed on [**2145-9-3**], it showed that\n",
      "increased pulmonary edema with bilateral pleural effusions.\n",
      "There were parenchymal opacities in the left upper lobe as\n",
      "well as the left base which increased in comparison to the\n",
      "previous chest x-ray.\n",
      "\n",
      "A chest CT performed on [**8-30**] showed a left loculated\n",
      "effusion;  a smaller right effusion;  a nodular left sided\n",
      "pleural thickening consistent with metastatic disease;\n",
      "persistent left hydropneumothorax;  extensive secretions in\n",
      "the left bronchial tree with partial left lower lobe\n",
      "collapse.  Infection could not be excluded.  Multiple blood\n",
      "cultures were drawn on the [**8-30**].  The catheter tip\n",
      "was positive for Methicillin resistant Staphylococcus aureus.\n",
      "On the 12th the aerobic and anaerobic blood cultures were\n",
      "positive for Methicillin resistant Staphylococcus aureus.\n",
      "The sputum on the 12th and 13th were both positive for\n",
      "Methicillin resistant Staphylococcus aureus.  The cytology\n",
      "for her effusions showed rare atypical cells insufficient for\n",
      "diagnosis.\n",
      "\n",
      "ASSESSMENT/PLAN:  This is an 89-year-old female with a\n",
      "history of depression and dementia, status post a mechanical\n",
      "fall on [**2145-8-18**].  Found to have a pelvic fracture and a left\n",
      "Colles fracture.  She was also on chest x-ray shown to have\n",
      "left pleural effusion requiring CT drainage.  The nodularity\n",
      "of the pleura was concerning for malignancy however, there is\n",
      "no definitive cancer cells seen on cytology of bronchial\n",
      "washings or pleural fluid.  The patient went into respiratory\n",
      "arrest following the effusion.  She was admitted to the\n",
      "Intensive Care Unit.  She had multiple extubation attempts.\n",
      "She was finally extubated on the [**8-28**] and\n",
      "transferred to the floor on the [**9-2**].  On the [**9-3**] the patient suffered a clinical downturn along with\n",
      "what appeared to be effusions on the chest x-ray.  The\n",
      "situation was discussed with the family, in particular, the\n",
      "son who is making the health care decisions and it was\n",
      "determined the make the patient comfort care only.  The\n",
      "patient remained comfortable during the rest of her stay and\n",
      "was transferred to Hospice on the [**2145-9-6**].\n",
      "\n",
      "PROBLEM LIST:\n",
      "1.  Pulmonary.  The patient had a left pleural effusion.  It\n",
      "was tapped, a chest tube was placed, had poor drainage.\n",
      "Cytology showed some atypical cells and the Interventional\n",
      "Pulmonology Team although not definitive, felt that this was\n",
      "a malignancy.  Following the tap the patient went into\n",
      "respiratory arrest requiring intubation.  The patient was\n",
      "admitted to the Intensive Care Unit, multiple attempts to\n",
      "extubate the patient failed.  Successfully extubated on\n",
      "[**2145-8-28**].  The patient showed a left lower lobe pneumonia. She\n",
      "was placed on Vancomycin.  She was required q 4 suctioning as\n",
      "the patient was unable to clear her own secretions based upon\n",
      "her condition.  It was discussed with the family that the\n",
      "next diagnostic test to work up her effusion was a VATS.\n",
      "Family felt that this was not what she or they wanted.  The\n",
      "family felt that the only intervention that they wanted was a\n",
      "pleurodesis.\n",
      "\n",
      "2.  Orthopedic issues.  She had a left Colles fracture which the\n",
      "orthopedic surgeons initially splinted.  The left lower arm was\n",
      "splinted for the duration of the hospitalization and removed when\n",
      "the goals of care were changed to comfort only.  The pubic ramus\n",
      "fracture required no intervention.  Mrs [**Known lastname 9751**] was to be\n",
      "weightbearing as tolerated, although she was never again\n",
      "ambulatory after admission.\n",
      "\n",
      "3.  Code status.  Following the return from the Intensive\n",
      "Care Unit to the floor, the patient was placed on DNR/DNI.\n",
      "The son was making the health care decisions after discussion\n",
      "with the husband.  After her clinical downturn the son\n",
      "discussed with Dr. [**Last Name (STitle) **] and said that he would like comfort\n",
      "care measures along with the antibiotics to be continued.\n",
      "The patient was comforted with a Morphine drip and she was\n",
      "sent for hospice care on the [**2145-9-6**].\n",
      "\n",
      "\n",
      "\n",
      "\n",
      "\n",
      "\n",
      "                            [**First Name11 (Name Pattern1) **] [**Last Name (NamePattern4) 1589**], M.D.  [**MD Number(1) 1590**]\n",
      "\n",
      "Dictated By:[**Name8 (MD) 104266**]\n",
      "MEDQUIST36\n",
      "\n",
      "D:  [**2145-9-6**]  16:13\n",
      "T:  [**2145-9-6**]  17:05\n",
      "JOB#:  [**Job Number **]\n",
      "\n",
      "\n",
      " \n",
      "\n",
      "<NEWNOTE>\n",
      "\n",
      "Admission Date:  [**2145-8-18**]       Discharge Date:  [**2145-9-6**]\n",
      "\n",
      "\n",
      "Service:\n",
      "ADDENDUM\n",
      "\n",
      "DISCHARGE CONDITION:  The patient's son, after conferring\n",
      "with Dr. [**Last Name (STitle) **], decided to make his mother [**Name (NI) 9036**] measures\n",
      "only. She is\n",
      "\n",
      "DISCHARGE DIAGNOSIS\n",
      "1.  Depression.\n",
      "2.  Dementia.\n",
      "3.  Ramus fracture.\n",
      "4.  Left Colles fracture.\n",
      "5.  Pneumonia.\n",
      "7.  Lung mass, probably carcinoma\n",
      "DISCHARGE MEDICATIONS:\n",
      "1.  Morphine drip for [**Name (NI) **].\n",
      "2.  Ceftriaxone 1 gram intravenous q 24 hours.\n",
      "3.  Vancomycin 1000 mg intravenous q 24 hours.\n",
      "4.  Sodium chloride nasal spray one to two spray b.i.d.\n",
      "5.  Haldol 0.5 mg intravenous q 4 hours as needed for\n",
      "    agitation.\n",
      "6.  Albuterol 1.2 puffs q 4 to 6 hours p.r.n.\n",
      "\n",
      "It is decided to continue her on these medications after\n",
      "discussing her situation with her son who really wants her to\n",
      "remain on the antibiotics.\n",
      "\n",
      "\n",
      "\n",
      "\n",
      "\n",
      "\n",
      "                            [**First Name11 (Name Pattern1) **] [**Last Name (NamePattern4) 1589**], M.D.  [**MD Number(1) 1590**]\n",
      "\n",
      "Dictated By:[**Dictator Info **]\n",
      "MEDQUIST36\n",
      "\n",
      "D:  [**2145-9-6**]  16:38\n",
      "T:  [**2145-9-6**]  19:59\n",
      "JOB#:  [**Job Number 104267**]\n",
      " \n"
     ]
    }
   ],
   "source": [
    "def show_random_note(df):\n",
    "    idx = np.random.choice(len(df))\n",
    "    note = df.text.loc[idx]\n",
    "    print(note)\n",
    "    return note\n",
    "    \n",
    "note = show_random_note(df)"
   ]
  },
  {
   "cell_type": "code",
   "execution_count": 9,
   "metadata": {},
   "outputs": [],
   "source": [
    "def process_text(text):\n",
    "    # convert text to lowercase and strip non-ascii\n",
    "    text = text.lower()\n",
    "    text = text.encode(\"ascii\", errors=\"ignore\").decode()\n",
    "    # get rid of cluttered info in top two lines\n",
    "    text = re.sub(r'admission date:.*','',text)\n",
    "    text = re.sub(r'date of birth:.*','',text)\n",
    "    text = re.sub(r'service:.*','',text)\n",
    "    # remove extra whitespace and weird ellipses (..,...)\n",
    "    text = re.sub(r'\\s+',' ',text)\n",
    "    text = re.sub(r'[.]{2,}',' ',text)\n",
    "    # replace numeric chars with <NUM> token\n",
    "    text = re.sub(r'\\d+','<NUM>',text)\n",
    "    # remove alphanumeric characters only occuring once\n",
    "    text = re.sub(r'\\b\\w\\b','',text)\n",
    "    # remove all punctuation except ',<,> and add space before '\n",
    "    text = re.sub(r\"[^\\w\\s'<>]\",' ',text)\n",
    "    text = re.sub(\"'\",\" '\",text)\n",
    "    # remove remaining extra whitespace\n",
    "    text = re.sub(r'[ ]{2,}',' ',text)    \n",
    "    # remove stop words\n",
    "    stop_words = stopwords.words('english')\n",
    "    text = ' '.join(word for word in text.split() if word not in stop_words)\n",
    "    return text\n",
    "\n",
    "# %load_ext line_profiler\n",
    "# %lprun -f process_text process_text(note)\n",
    "\n",
    "# %load_ext memory_profiler\n",
    "# %memit process_text(note)\n",
    "\n",
    "df['text_processed'] = df.text.progress_apply(lambda x: process_text(x))\n",
    "df.to_csv(data_path/'90_day_data_postprocessed.csv',index=False)"
   ]
  },
  {
   "cell_type": "code",
   "execution_count": 14,
   "metadata": {},
   "outputs": [
    {
     "data": {
      "text/html": [
       "<div>\n",
       "<style>\n",
       "    .dataframe thead tr:only-child th {\n",
       "        text-align: right;\n",
       "    }\n",
       "\n",
       "    .dataframe thead th {\n",
       "        text-align: left;\n",
       "    }\n",
       "\n",
       "    .dataframe tbody tr th {\n",
       "        vertical-align: top;\n",
       "    }\n",
       "</style>\n",
       "<table border=\"1\" class=\"dataframe\">\n",
       "  <thead>\n",
       "    <tr style=\"text-align: right;\">\n",
       "      <th></th>\n",
       "      <th>subject_id</th>\n",
       "      <th>hadm_ids</th>\n",
       "      <th>labels</th>\n",
       "      <th>text</th>\n",
       "      <th>text_processed</th>\n",
       "    </tr>\n",
       "  </thead>\n",
       "  <tbody>\n",
       "    <tr>\n",
       "      <th>0</th>\n",
       "      <td>40827</td>\n",
       "      <td>160517</td>\n",
       "      <td>0</td>\n",
       "      <td>Admission Date:  [**2127-12-1**]              ...</td>\n",
       "      <td>cardiothoracic allergies patient recorded kno...</td>\n",
       "    </tr>\n",
       "    <tr>\n",
       "      <th>1</th>\n",
       "      <td>31357</td>\n",
       "      <td>132179</td>\n",
       "      <td>0</td>\n",
       "      <td>Admission Date:  [**2179-8-8**]              D...</td>\n",
       "      <td>neurology allergies patient recorded known al...</td>\n",
       "    </tr>\n",
       "    <tr>\n",
       "      <th>2</th>\n",
       "      <td>11653</td>\n",
       "      <td>130648</td>\n",
       "      <td>0</td>\n",
       "      <td>Admission Date: [**2168-5-21**]        Dischar...</td>\n",
       "      <td>nb  neonatology history baby girl known lastn...</td>\n",
       "    </tr>\n",
       "    <tr>\n",
       "      <th>3</th>\n",
       "      <td>71084</td>\n",
       "      <td>153725</td>\n",
       "      <td>0</td>\n",
       "      <td>Admission Date:  [**2100-12-16**]             ...</td>\n",
       "      <td>urology allergies known allergies adverse dru...</td>\n",
       "    </tr>\n",
       "    <tr>\n",
       "      <th>4</th>\n",
       "      <td>17642</td>\n",
       "      <td>117210</td>\n",
       "      <td>0</td>\n",
       "      <td>Admission Date:  [**2143-8-14**]              ...</td>\n",
       "      <td>cardiothoracic allergies amoxicillin sulfa su...</td>\n",
       "    </tr>\n",
       "    <tr>\n",
       "      <th>5</th>\n",
       "      <td>95004</td>\n",
       "      <td>118951 153067</td>\n",
       "      <td>0</td>\n",
       "      <td>Admission Date:  [**2198-10-12**]             ...</td>\n",
       "      <td>orthopaedics allergies patient recorded known...</td>\n",
       "    </tr>\n",
       "    <tr>\n",
       "      <th>6</th>\n",
       "      <td>7573</td>\n",
       "      <td>159990</td>\n",
       "      <td>0</td>\n",
       "      <td>Admission Date:  [**2152-3-9**]       Discharg...</td>\n",
       "      <td>history present illness &lt;NUM&gt; year old male p...</td>\n",
       "    </tr>\n",
       "    <tr>\n",
       "      <th>7</th>\n",
       "      <td>18623</td>\n",
       "      <td>161572 145176</td>\n",
       "      <td>0</td>\n",
       "      <td>Admission Date:  [**2197-1-31**]       Dischar...</td>\n",
       "      <td>admission diagnoses &lt;NUM&gt; coronary artery dis...</td>\n",
       "    </tr>\n",
       "    <tr>\n",
       "      <th>8</th>\n",
       "      <td>25367</td>\n",
       "      <td>189965</td>\n",
       "      <td>0</td>\n",
       "      <td>Admission Date:  [**2153-7-28**]              ...</td>\n",
       "      <td>surgery allergies penicillins attending first...</td>\n",
       "    </tr>\n",
       "    <tr>\n",
       "      <th>9</th>\n",
       "      <td>31784</td>\n",
       "      <td>179317</td>\n",
       "      <td>0</td>\n",
       "      <td>Admission Date:  [**2136-7-26**]              ...</td>\n",
       "      <td>neurosurgery allergies patient recorded known...</td>\n",
       "    </tr>\n",
       "  </tbody>\n",
       "</table>\n",
       "</div>"
      ],
      "text/plain": [
       "   subject_id       hadm_ids  labels  \\\n",
       "0       40827         160517       0   \n",
       "1       31357         132179       0   \n",
       "2       11653         130648       0   \n",
       "3       71084         153725       0   \n",
       "4       17642         117210       0   \n",
       "5       95004  118951 153067       0   \n",
       "6        7573         159990       0   \n",
       "7       18623  161572 145176       0   \n",
       "8       25367         189965       0   \n",
       "9       31784         179317       0   \n",
       "\n",
       "                                                text  \\\n",
       "0  Admission Date:  [**2127-12-1**]              ...   \n",
       "1  Admission Date:  [**2179-8-8**]              D...   \n",
       "2  Admission Date: [**2168-5-21**]        Dischar...   \n",
       "3  Admission Date:  [**2100-12-16**]             ...   \n",
       "4  Admission Date:  [**2143-8-14**]              ...   \n",
       "5  Admission Date:  [**2198-10-12**]             ...   \n",
       "6  Admission Date:  [**2152-3-9**]       Discharg...   \n",
       "7  Admission Date:  [**2197-1-31**]       Dischar...   \n",
       "8  Admission Date:  [**2153-7-28**]              ...   \n",
       "9  Admission Date:  [**2136-7-26**]              ...   \n",
       "\n",
       "                                      text_processed  \n",
       "0   cardiothoracic allergies patient recorded kno...  \n",
       "1   neurology allergies patient recorded known al...  \n",
       "2   nb  neonatology history baby girl known lastn...  \n",
       "3   urology allergies known allergies adverse dru...  \n",
       "4   cardiothoracic allergies amoxicillin sulfa su...  \n",
       "5   orthopaedics allergies patient recorded known...  \n",
       "6   history present illness <NUM> year old male p...  \n",
       "7   admission diagnoses <NUM> coronary artery dis...  \n",
       "8   surgery allergies penicillins attending first...  \n",
       "9   neurosurgery allergies patient recorded known...  "
      ]
     },
     "execution_count": 14,
     "metadata": {},
     "output_type": "execute_result"
    }
   ],
   "source": [
    "df.head(10)"
   ]
  },
  {
   "cell_type": "code",
   "execution_count": null,
   "metadata": {},
   "outputs": [],
   "source": [
    "def show_wordcloud(text):\n",
    "    text = ' '.join([t for t in text])\n",
    "    wordcloud = WordCloud().generate(text)\n",
    "    #plt.figure(figsize=(8,8))\n",
    "    plt.imshow(wordcloud)\n",
    "    plt.axis('off')\n",
    "    plt.tight_layout(pad=0)\n",
    "    plt.show()\n",
    "    \n",
    "\n",
    "# print('readmit wordcloud')\n",
    "# pos = df[df['labels']==1].text_processed.sample(n=1000).apply(lambda text: re.sub('NUM','',text))\n",
    "# show_wordcloud(pos)\n",
    "\n",
    "# print('non-readmit wordcloud')\n",
    "# neg = df[df['labels']==0].text_processed.sample(n=1000).apply(lambda text: re.sub('NUM','',text))\n",
    "# show_wordcloud(neg)"
   ]
  },
  {
   "cell_type": "code",
   "execution_count": 44,
   "metadata": {},
   "outputs": [],
   "source": [
    "# nlp = spacy.load('en')\n",
    "# df['text_tokenized'] = df.text_processed.progress_apply(lambda x:' '.join(t.text for t in nlp.tokenizer(x)))\n",
    "# df.head()"
   ]
  },
  {
   "cell_type": "code",
   "execution_count": 49,
   "metadata": {},
   "outputs": [
    {
     "name": "stdout",
     "output_type": "stream",
     "text": [
      "(53182, 30000)\n"
     ]
    }
   ],
   "source": [
    "cv = CountVectorizer(analyzer=str.split,ngram_range=(1,2),stop_words=None,lowercase=False,max_features=30000,max_df=0.9,min_df=1e-4)\n",
    "X_counts = cv.fit_transform(df.text_processed)\n",
    "print(X_counts.shape)"
   ]
  },
  {
   "cell_type": "code",
   "execution_count": 50,
   "metadata": {},
   "outputs": [],
   "source": [
    "tfidf_tr = TfidfTransformer()\n",
    "X_tfidf = tfidf_tr.fit_transform(X_counts)"
   ]
  },
  {
   "cell_type": "code",
   "execution_count": 51,
   "metadata": {
    "collapsed": true
   },
   "outputs": [],
   "source": [
    "X_train,X_test,y_train,y_test = train_test_split(X_tfidf, df['labels'], test_size=0.2)\n",
    "X_train_bal,y_train_bal = SMOTE().fit_sample(X_train,y_train)"
   ]
  },
  {
   "cell_type": "code",
   "execution_count": 66,
   "metadata": {},
   "outputs": [
    {
     "data": {
      "text/plain": [
       "RandomForestClassifier(bootstrap=True, class_weight=None, criterion='gini',\n",
       "            max_depth=None, max_features='auto', max_leaf_nodes=None,\n",
       "            min_impurity_decrease=0.0, min_impurity_split=None,\n",
       "            min_samples_leaf=15, min_samples_split=5,\n",
       "            min_weight_fraction_leaf=0.0, n_estimators=100, n_jobs=-1,\n",
       "            oob_score=False, random_state=None, verbose=0,\n",
       "            warm_start=False)"
      ]
     },
     "execution_count": 66,
     "metadata": {},
     "output_type": "execute_result"
    }
   ],
   "source": [
    "model = RandomForestClassifier(n_estimators=100,min_samples_leaf=15,max_features='auto',min_samples_split=5,n_jobs=-1)\n",
    "model.fit(X_train_bal,y_train_bal)"
   ]
  },
  {
   "cell_type": "code",
   "execution_count": 67,
   "metadata": {},
   "outputs": [
    {
     "name": "stdout",
     "output_type": "stream",
     "text": [
      "--Training Set Scores--\n",
      "accuracy:  0.9111\n",
      "precision:  0.9428\n",
      "recall:  0.8754\n",
      "f1:  0.9078\n",
      "auc:  0.9111\n",
      "confusion matrix:\n",
      " [[29803  1670]\n",
      " [ 3923 27550]]\n",
      "\n",
      "--Test Set Scores--\n",
      "accuracy:  0.8188\n",
      "precision:  0.6884\n",
      "recall:  0.5852\n",
      "f1:  0.6326\n",
      "auc:  0.7445\n",
      "confusion matrix:\n",
      " [[7051  751]\n",
      " [1176 1659]]\n"
     ]
    }
   ],
   "source": [
    "def get_scores(y_train,yhat_train,y_test,yhat_test):\n",
    "    print('--Training Set Scores--')\n",
    "    print('accuracy: ', round(accuracy_score(y_train,yhat_train),4))\n",
    "    print('precision: ', round(precision_score(y_train,yhat_train),4))\n",
    "    print('recall: ', round(recall_score(y_train,yhat_train),4))\n",
    "    print('f1: ', round(f1_score(y_train,yhat_train),4))\n",
    "    print('auc: ', round(roc_auc_score(y_train,yhat_train),4))\n",
    "    print('confusion matrix:\\n', confusion_matrix(y_train,yhat_train))\n",
    "    print()\n",
    "    print('--Test Set Scores--')\n",
    "    print('accuracy: ', round(accuracy_score(y_test,yhat_test),4))\n",
    "    print('precision: ', round(precision_score(y_test,yhat_test),4))\n",
    "    print('recall: ', round(recall_score(y_test,yhat_test),4))\n",
    "    print('f1: ', round(f1_score(y_test,yhat_test),4))\n",
    "    print('auc: ', round(roc_auc_score(y_test,yhat_test),4))\n",
    "    print('confusion matrix:\\n', confusion_matrix(y_test,yhat_test))\n",
    "\n",
    "yhat_train = model.predict(X_train_bal)\n",
    "yhat_test = model.predict(X_test)\n",
    "get_scores(y_train_bal,yhat_train,y_test,yhat_test)"
   ]
  },
  {
   "cell_type": "code",
   "execution_count": 68,
   "metadata": {},
   "outputs": [
    {
     "data": {
      "image/png": "[encoded data removed]",
      "text/plain": [
       "<matplotlib.figure.Figure at 0x14c6078d0>"
      ]
     },
     "metadata": {},
     "output_type": "display_data"
    }
   ],
   "source": [
    "def plot_feature_importances(model,vectorizer,max_num=10):\n",
    "    str_to_int = vectorizer.vocabulary_\n",
    "    int_to_str = {val:key for key,val in str_to_int.items()}\n",
    "    \n",
    "    top_importances = -np.sort(-model.feature_importances_)[:max_num]\n",
    "    top_importances = np.sort(top_importances)\n",
    "    \n",
    "    #std = np.std([tree.feature_importances_ for tree in model.estimators_],axis=0)\n",
    "    \n",
    "    top_features = np.argsort(-model.feature_importances_)[:max_num]\n",
    "    top_words = [int_to_str[i] for i in top_features]\n",
    "    top_words = reversed(top_words)\n",
    "    \n",
    "    plt.figure()\n",
    "    plt.title('Feature importances')\n",
    "    plt.barh(range(max_num), top_importances,\n",
    "             color='r', align='center')\n",
    "    plt.yticks(range(max_num), top_words)\n",
    "    plt.ylim([-1, max_num])\n",
    "    plt.show()\n",
    "    \n",
    "plot_feature_importances(model,cv,20)"
   ]
  },
  {
   "cell_type": "code",
   "execution_count": 85,
   "metadata": {},
   "outputs": [
    {
     "data": {
      "text/plain": [
       "LogisticRegression(C=0.5, class_weight=None, dual=False, fit_intercept=True,\n",
       "          intercept_scaling=1, max_iter=100, multi_class='ovr', n_jobs=1,\n",
       "          penalty='l2', random_state=None, solver='liblinear', tol=0.0001,\n",
       "          verbose=0, warm_start=False)"
      ]
     },
     "execution_count": 85,
     "metadata": {},
     "output_type": "execute_result"
    }
   ],
   "source": [
    "model = LogisticRegression(C=0.5)\n",
    "model.fit(X_train_bal,y_train_bal)"
   ]
  },
  {
   "cell_type": "code",
   "execution_count": 86,
   "metadata": {},
   "outputs": [
    {
     "name": "stdout",
     "output_type": "stream",
     "text": [
      "--Training Set Scores--\n",
      "accuracy:  0.8505\n",
      "precision:  0.86\n",
      "recall:  0.8374\n",
      "f1:  0.8485\n",
      "auc:  0.8505\n",
      "confusion matrix:\n",
      " [[27184  4289]\n",
      " [ 5119 26354]]\n",
      "\n",
      "--Test Set Scores--\n",
      "accuracy:  0.8117\n",
      "precision:  0.6257\n",
      "recall:  0.7305\n",
      "f1:  0.674\n",
      "auc:  0.7859\n",
      "confusion matrix:\n",
      " [[6563 1239]\n",
      " [ 764 2071]]\n"
     ]
    }
   ],
   "source": [
    "yhat_train = model.predict(X_train_bal)\n",
    "yhat_test = model.predict(X_test)\n",
    "get_scores(y_train_bal,yhat_train,y_test,yhat_test)"
   ]
  },
  {
   "cell_type": "code",
   "execution_count": 77,
   "metadata": {},
   "outputs": [],
   "source": [
    "# model = xgb.XGBClassifier(n_estimators=100,n_jobs=4)\n",
    "# model.fit(X_train_bal,y_train_bal)"
   ]
  },
  {
   "cell_type": "code",
   "execution_count": null,
   "metadata": {},
   "outputs": [],
   "source": [
    "# yhat_train = model.predict(X_train_bal)\n",
    "# yhat_test = model.predict(X_test)\n",
    "# get_scores(y_train_bal,yhat_train,y_test,yhat_test)"
   ]
  },
  {
   "cell_type": "code",
   "execution_count": null,
   "metadata": {
    "collapsed": true
   },
   "outputs": [],
   "source": [
    "# plot_feature_importances(model,cv,20)"
   ]
  },
  {
   "cell_type": "code",
   "execution_count": 88,
   "metadata": {},
   "outputs": [
    {
     "data": {
      "text/plain": [
       "(1, 30000)"
      ]
     },
     "execution_count": 88,
     "metadata": {},
     "output_type": "execute_result"
    }
   ],
   "source": [
    "model.coef_.shape"
   ]
  },
  {
   "cell_type": "code",
   "execution_count": 97,
   "metadata": {},
   "outputs": [
    {
     "name": "stdout",
     "output_type": "stream",
     "text": [
      "9912\n"
     ]
    },
    {
     "data": {
      "image/png": "[encoded data removed]",
      "text/plain": [
       "<matplotlib.figure.Figure at 0x17e84e5f8>"
      ]
     },
     "metadata": {},
     "output_type": "display_data"
    }
   ],
   "source": [
    "def plot_feature_importances(model,vectorizer,max_num=10):\n",
    "    str_to_int = vectorizer.vocabulary_\n",
    "    int_to_str = {val:key for key,val in str_to_int.items()}\n",
    "    \n",
    "    top_importances = -np.sort(-np.abs(model.coef_).flatten())[:max_num]\n",
    "    top_importances = np.sort(top_importances)\n",
    "    \n",
    "    #std = np.std([tree.feature_importances_ for tree in model.estimators_],axis=0)\n",
    "    \n",
    "    top_features = np.argsort(-np.abs(model.coef_).flatten())[:max_num]\n",
    "    top_words = [int_to_str[i] for i in top_features]\n",
    "    top_words = reversed(top_words)\n",
    "    \n",
    "    plt.figure()\n",
    "    plt.title('Feature importances')\n",
    "    plt.barh(range(max_num), top_importances,\n",
    "             color='r', align='center')\n",
    "    plt.yticks(range(max_num), top_words)\n",
    "    plt.ylim([-1, max_num])\n",
    "    plt.show()\n",
    "    \n",
    "plot_feature_importances(model,cv,20)"
   ]
  },
  {
   "cell_type": "code",
   "execution_count": null,
   "metadata": {
    "collapsed": true
   },
   "outputs": [],
   "source": []
  },
  {
   "cell_type": "code",
   "execution_count": null,
   "metadata": {
    "collapsed": true
   },
   "outputs": [],
   "source": []
  },
  {
   "cell_type": "code",
   "execution_count": null,
   "metadata": {
    "collapsed": true
   },
   "outputs": [],
   "source": []
  },
  {
   "cell_type": "code",
   "execution_count": null,
   "metadata": {
    "collapsed": true
   },
   "outputs": [],
   "source": []
  },
  {
   "cell_type": "code",
   "execution_count": null,
   "metadata": {
    "collapsed": true
   },
   "outputs": [],
   "source": [
    "# Feature importances\n",
    "features = list(X_test.columns)\n",
    "importances = model.feature_importances_\n",
    "std = np.std([tree.feature_importances_ for tree in model.estimators_], axis=0)\n",
    "indices = np.argsort(importances)[::-1]\n",
    "num_features = len(importances)\n",
    "\n",
    "# Plot the feature importances of the tree\n",
    "plt.figure()\n",
    "plt.title(\"Feature importances\")\n",
    "plt.bar(range(num_features), importances[indices], yerr=std[indices], \n",
    "        color=\"g\", align=\"center\")\n",
    "plt.xticks(range(num_features), [features[i] for i in indices], rotation='45')\n",
    "plt.xlim([-1, num_features])\n",
    "plt.show()"
   ]
  }
 ],
 "metadata": {
  "kernelspec": {
   "display_name": "Python 3",
   "language": "python",
   "name": "python3"
  },
  "language_info": {
   "codemirror_mode": {
    "name": "ipython",
    "version": 3
   },
   "file_extension": ".py",
   "mimetype": "text/x-python",
   "name": "python",
   "nbconvert_exporter": "python",
   "pygments_lexer": "ipython3",
   "version": "3.6.2"
  }
 },
 "nbformat": 4,
 "nbformat_minor": 2
}
