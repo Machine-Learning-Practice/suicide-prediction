{
 "cells": [
  {
   "cell_type": "code",
   "execution_count": 62,
   "metadata": {},
   "outputs": [],
   "source": [
    "import numpy as np\n",
    "import pandas as pd\n",
    "import matplotlib.pyplot as plt\n",
    "from fastai.text import *"
   ]
  },
  {
   "cell_type": "code",
   "execution_count": 63,
   "metadata": {},
   "outputs": [],
   "source": [
    "path = Path('/home/paperspace/suicides')"
   ]
  },
  {
   "cell_type": "code",
   "execution_count": 107,
   "metadata": {},
   "outputs": [
    {
     "name": "stdout",
     "output_type": "stream",
     "text": [
      "SUBJECT_ID,HADM_ID,CHARTTIME,TEXT\r\n",
      "22532,167853,,\"admission date discharge date service addendum radiologic studies radiologic studies also included a chest ct which confirmed cavitary lesions in the left lung apex consistent with infectious process tuberculosis this also moderate sized left pleural effusion head ct head ct showed no intracranial hemorrhage or mass effect but old infarction consistent with past medical history abdominal ct abdominal ct showed lesions of t10 and sacrum most likely secondary to osteoporosis these can be followed by repeat imaging as an outpatient first name8 namepattern2 first name4 namepattern1 last name namepattern1 m d md number dictated by hospital medquist36 d t job job number\"\r\n",
      "13702,107527,,\"admission date discharge date date of birth sex f service micu and then to doctor last name medicine history of present illness this is an year old female with a history of emphysema not on home o2 who presents with three days of shortness of breath thought by her primary care doctor to be a copd flare two days prior to admission she was started on a prednisone taper and one day prior to admission she required oxygen at home in order to maintain oxygen saturation greater than she has also been on levofloxacin and nebulizers and was not getting better and presented to the hospital1 emergency room in the hospital3 emergency room her oxygen saturation was on cpap she was not able to be weaned off of this despite nebulizer treatment and solu medrol mg iv x2 review of systems is negative for the following fevers chills nausea vomiting night sweats change in weight gastrointestinal complaints neurologic changes rashes palpitations orthopnea is positive for the following chest pressure occasionally with shortness of breath with exertion some shortness of breath that is positionally related but is improved with nebulizer treatment past medical history copd last pulmonary function tests in demonstrated a fvc of of predicted a fev1 of of predicted a mmf of of predicted and a fev1 fvc ratio of of predicted that does not improve with bronchodilator treatment the fvc however does significantly improve with bronchodilator treatment consistent with her known reversible air flow obstruction in addition to an underlying restrictive ventilatory defect the patient has never been on home oxygen prior to this recent episode she has never been on steroid taper or been intubated in the past lacunar cva mri of the head in demonstrates mild degree of multiple small foci of high t2 signal within the white matter of both cerebral hemispheres as well as the pons in the latter region predominantly to the right of midline the abnormalities while nonspecific in etiology are most likely secondary to chronic microvascular infarction there is no mass lesion shift of the normal midline strictures or hydrocephalus the major vascular flow patterns are preserved there is moderate right maxillary moderate bilateral ethmoid mild left maxillary minimal right sphenoid and frontal sinus mucosal thickening these abnormalities could represent an allergic or some other type of inflammatory process additionally noted is a moderately enlarged subtotally empty sella turcica angina most recent stress test was in going for four minutes with a rate pressure product of of maximum predicted heart rate without evidence of ischemic ekg changes or symptoms the imaging portion of the study demonstrated no evidence of myocardial ischemia and a calculated ejection fraction of the patient denies angina at rest and gets angina with walking a few blocks are alleviated by sublingual nitroglycerin hypothyroidism on synthroid depression on lexapro motor vehicle accident with head injury approximately years ago medications on admission hydrochlorothiazide q d prednisone mg mg mg mg levofloxacin mg q d imdur mg q d synthroid mcg q d pulmicort nebulizer b i d albuterol nebulizer q prn lexapro mg q d protonix mg q d aspirin mg q d allergies norvasc leads to lightheadedness and headache family history noncontributory social history lives with her husband dr known lastname an eminent pediatric neurologist at hospital3 the patient is a prior smoker but has not smoked in over years she has no known alcohol use and she is a full code physical exam at time of admission blood pressure heart rate and regular respirations at and axillary temperature she was saturating at on cpap with dry mucous membranes an elderly female in no apparent distress pupils are equal round and reactive to light and accommodation extraocular movements are intact oropharynx difficult to assess due to cpap machine no evidence of jugular venous pressure however the strap from the cpap machine obscures the neck exam cranial nerves ii through xii are grossly intact neck is supple without lymphadenopathy heart exam tachycardic regular obscured by loud bilateral wheezing with increase in the expiratory phase as well as profuse scattered rhonchi throughout the lung fields positive bowel sounds soft nontender nondistended obese no masses mild edema of the lower extremities without clubbing or cyanosis no rashes there is a right hand hematoma strength is assessed as in the lower extremities in the upper extremities with a normal mental status and cognition laboratory studies white count hematocrit platelets chem troponin was negative cks were negative times three initial blood gas showed a ph of po2 of pco2 of chest x ray demonstrates a moderate sized hiatal hernia segmental atelectasis left lower lobe infiltrate versus segmental atelectasis ekg shows normal sinus rhythm at beats per minute normal axis no evidence of st t wave changes brief summary of hospital course copd dyspnea pneumonia the patient was initially placed on an aggressive steroid taper and admitted to the medical intensive care unit due to her difficulty with oxygenation despite cpap machine she was also given nebulizer treatments q 4h as well as chest pt the nebulizers were increased to q 1h due to the fact that she continued to have labored breathing due to persistent respiratory failure and labored breathing the patient was intubated on in order to improve oxygenation ventilation and ability to suction a bronchoscopy was performed on which demonstrated marked narrowing of the airways with expiration consistent with tracheomalacia on two silicone stents were placed one in the left main stem x and one in the trachea x by dr first name stitle name stitle under rigid bronchoscopy with general anesthesia on the patient was extubated to a cool mist shovel mask and her oxygen was titrated down to liters nasal cannula at which time she was transferred to the medical floor on the medical floor the steroids were weaned to off on and the patient was saturating at on liters on room air on the patient was seen again by the interventional pulmonology service who agreed that she looked much improved and recommended that she go to pulmonary rehabilitation with followup within six weeks time status post placement of stents in respiratory failure cardiovascular the patient was ruled out for a mi she did have another episode on the medical floor of chest pain which showed no evidence of ekg changes and negative troponin negative cks x3 she was continued on aspirin imdur and diltiazem for rate control per her outpatient regimen hypertension she was maintained on diltiazem and hydrochlorothiazide with adequate blood pressure control and normalization of electrolytes hematuria the patient had intermittent hematuria likely secondary to foley placement the foley catheter was discontinued on she had serial urinalyses which were all negative for signs of infection hyperglycemia patient was placed on insulin sliding scale due to hyperglycemia which was steroid induced this worked quite well and her glucose came back to normal levels once the steroids were tapered to off leukocytosis patient did have a profound leukocytosis of to during much of her hospital course as the steroids were tapered to off her white blood cell count on was it was felt that the leukocytosis was secondary to both steroids as well as question of a left lower lobe pneumonia for the left lower lobe pneumonia the patient had initially received a course of levofloxacin p o q d from to this was restarted on for an additional seven day course given the fact that she still had the leukocytosis and still had marked rales at the left lower lobe hypothyroidism the patient was continued on outpatient medical regimen depression the patient was continued on lexapro per outpatient regimen it is recommended that she follow up with a therapist as an outpatient due to the fact that she did have a blunted affect throughout much of the hospital course and did appear clinically to be depressed prophylaxis she was maintained on proton pump inhibitor with subq heparin sore throat the patient did have a sore throat for much of the hospital course post extubation this was treated with cepacol lozenges as well as kbl liquid a solution containing kaopectate bismuth and lidocaine at bedtime communication code status the patient was full code throughout her hospital course and communication was maintained with the patient and her husband muscle weakness the patient did have profound muscle weakness and was evaluated by physical therapy and was found to have impaired functional mobility impaired musculoskeletal performance impaired gas exchange impaired endurance impaired ventilation and needed help with supine to sit however she was able to tolerate sitting in a chair for approximately one hour on motor exam her flexors and extensors of the lower extremities were at the knee at the ankle at the elbows and hips it was felt that this weakness was most likely due to a combination of steroid myopathy as well as muscle atrophy secondary to deconditioning after a prolonged hospital course speech swallow the patient had a speech and swallow evaluation showing no evidence of dysphagia no evidence of vocal cord damage status post tracheal stent placement discharge condition the patient was able to oxygenate on room air at at the time of discharge she was profoundly weak but was no longer tachycardic and had a normal blood pressure her respirations were much improved albeit with transmitted upper airway sounds discharge status the patient will be discharged to hospital1 for both pulmonary and physical rehabilitation discharge medications levothyroxine mcg p o q d citalopram mg p o q d aspirin mg p o q d fluticasone mcg two puffs inhaled b i d salmeterol diskus one inhalation b i d acetaminophen mg p o q 6h prn ipratropium bromide mdi two puffs inhaled q 2h prn albuterol puffs inhaled q 2h prn zolpidem tartrate mg p o q h s prn isosorbide dinitrate mg p o t i d diltiazem mg p o q i d pantoprazole mg p o q 24h trazodone mg p o q h s prn subq heparin units subcutaneous b i d until such time that the patient is able to get out of bed twice a day cepacol lozenges q 2h prn levofloxacin mg p o q d for a seven day course to be completed on kaopectate benadryl lidocaine ml p o b i d prn not to be given around mealtimes for concern of dysphagia induced by lidocaine lorazepam mg iv q 6h prn follow up plans the patient is recommended to followup with dr first name4 namepattern1 last name namepattern1 telephone fax within two weeks of leaving of the hospital she is also recommended to followup with the interventional pulmonary service for followup status post stent placement she is also recommended to followup with a neurologist if her muscle weakness does not improve within one week on physical therapy with concern for steroid induced myopathy final diagnoses tracheomalacia status post tracheal and left main stem bronchial stent placement hypertension hypothyroidism restrictive lung defect depression dr last name stitle first name3 lf dictated by last name namepattern1 medquist36 d t job job number\"\r\n",
      "13702,167118,,\"admission date discharge date service cardiothoracic allergies amlodipine attending last name namepattern1 chief complaint yo f smoker w copd severe tbm s p tracheobronchoplasty s p perc trach major surgical or invasive procedure bronchoscopy s p trachealplasty percutaneous tracheostomy after failed extubation down size trach on to size cuffless history of present illness this year old woman has a history of copd over the past five years she has had progressive difficulties with her breathing in she was admitted to hospital1 for respiratory failure due to a copd exacerbation due to persistent hypoxemia she required intubation and a eventual bronchoscopy on revealed marked narrowing of the airways on expiration consistent with tracheomalacia she subsequently underwent placement of two silicone stents one in the left main stem and one in the trachea during the admission the patient had complaints of chest pain and ruled out for an mi she was subsequently discharged to hospital1 for physical and pulmonary rehab repeat bronchoscopy on revealed granulation tissue at the distal right lateral wall of the tracheal stent there was significant malacia of the peripheral and central airways with complete collapse of the airways on coughing and forced expiration small nodules were also noted on the vocal cords she has noticed improvement in her respiratory status but most recently has been in discussion with dr first name4 namepattern1 last name namepattern1 regarding possible tracheobronchial plasty with mesh tracheal stents d c in anticipation of surgery in terms of symptoms she describes many years of intermittent chest pain that she describes as left sided and occurring at any time currently she notices it about three times a week and states that it seems to resolve after three nitroglycerin she currently is dependent on oxygen and wears liters around the clock she has frequent coughing and brings up dark sputum past medical history copd flare s p intubation s p distal tracheal to left main stem stents placed stents d c d cad w atypical angina lad rca ef chol hypothyroidism htn hiatal hernia lacunar cva s p ped struck head injury rib fx depression pmh copd s p admit for exacerbation requiring intubation tracheobronchomalacia s p bronchial stenting large hiatal hernia lacunar cva hypothyroidism by records in ccc although patient denies and is not taking any medication depression mva s p head injury approximately years ago hypertension hysterectomy social history social history the patient is married and worked as a clinical psychologist her husband is a pediatric neurologist at hospital3 they have several children one of which is a nurse family history family history fhx cad father with an mi in his s died of a cva at age physical exam admit h p general lovely yr old feamle in nad neuro intermittently anxious mae perrla l eye ptosis symetrical smile gossly intact heent perrla sclera anicteric pharynx no exud or erythema resp clear upper diffuse ronchi intermit exp wheezes cor rrr no m r g abd soft nt nd no masses slight protrusion at area of hiatal hernia ext no edema or clubbing brief hospital course y o female admitted for consideration of tracheoplasty bronchoscopy done confirming severe tbm underwent tracheoplasty complicated by resp failure d t mucous plugging hypoxia requiring re intubation resulting in prolonged icu and hospital course also developed right upper extrem dvt from mid line pain epidural accidently d c d pod pt briefly used dilaudid pca intermittently w fair pain control pt required re intubation for resp failure d t secretions and pca d c at that time propofol for sedation while intubated sedation d c d for weaning trial w ett failed trial trach weaning efforts as below minimal c o pain since presently pain free neuro initially intact post op aggitation inhibiting weaning efforts psych eval started on zyprexa and ativan w improvement in anxiety presently a ox3 cooperative and lovely resp extubated pod then required re intub for hypoxia d t poor cough and mucous plugging simv ps alt w cmv at night x4 5d with cpap attempts during day bronchoscopy qd date range for secretion management bronch revealed swollen epiglottis bronch good leak w ett cuff deflated bronch for eval trach placement last bronch w min secretions present sputum sent perc trach done portex cuffed low pressure maintained to preserve tracheoplasty site cpap15 peep5 initiated post trach placement weaning ongoing date range aggressive weaning w increasing episodes of cpap progressing to trach mask trach mask overnight w no episodes of sob or hemodynamic instability trach changed to portex capped and last name un well x48hrs on 2lnp productive cough aggressive pt as well w oob chair hospital1 tid to total 6hr qd ambulation ft w pt assist id vancomycin started post op for graft prophylaxis fever spike w bal sputum sent mrsa vanco cont to weeks post trachealplasty fever low grade cultured no new results wbc cardiac hypertension controlled w hydralazine iv then d c and cont controlled hr nsr avoiding b blockers lasix 20mg iv qd rue redness and swelling at site of midline rue dvt by ultrasound midline d c heparin gtt started and therapeutic range monitored changed to lovenox sq hospital1 coags in good control access r midline placed for access clotted and d c d rue redness and swelling and dvt via ultrasound l brachial picc line placed tpn resumed gi large hiatal hernia unable to place enteral feeding tube at bedside or underfluoro re attempt by egd doboff tube placed distal esophagus dislodged in 12hours and removed nutrition ppn tpn initiated picc placed speech and swallow eval rec change trach form to portex to allow improved epiglotis and oropharyngeal movement to assist w swallowing then re eval trach changed to cuffless portex trach passed repeat swallow eval and last name un diet of regular solids w thin liquids chin tuck to swallow thin liquids give meds whole w apple sauce would recommend repeat video swallow eval in days to possibly eliminate chin tuck see page referral endo hypothyroid maintained on levoxyl muscu skel oob chair 6hours day pt consulting medications on admission advair atrovent imdur lasix lexapro lipitor prilosec mucinex synthroid detrol la ambien trazadone melatonin prn discharge medications albuterol sulfate solution sig one inhalation q6h every hours as needed for wheezing ipratropium bromide solution sig one inhalation q6h every hours as needed for wheezing fluticasone salmeterol mcg dose disk with device sig one disk with device inhalation hospital1 times a day albuterol mcg actuation aerosol sig puffs inhalation q6h every hours as needed ipratropium bromide mcg actuation aerosol sig two puff inhalation qid times a day acetaminophen mg tablet sig tablets po q4 6h every to hours as needed sodium chloride aerosol spray sig sprays nasal qid times a day as needed camphor menthol lotion sig one appl topical tid times a day as needed enoxaparin sodium mg 6ml syringe sig one subcutaneous q12h every hours trazodone hcl mg tablet sig tablets po hs at bedtime as needed escitalopram oxalate mg tablet sig two tablet po daily daily nystatin unit g cream sig one appl topical hospital1 times a day pantoprazole sodium mg tablet delayed release e c sig one tablet delayed release e c po q24h every hours tolterodine tartrate mg tablet sig one tablet po bid times a day levothyroxine sodium mcg tablet sig one tablet po daily daily heparin lock flush porcine unit ml syringe sig one ml intravenous daily daily as needed discharge disposition extended care facility hospital3 rehab center hospital1 discharge diagnosis copd coronary artery disease atypical angina lad rca ef hypercholesterolemia hypothyroidism hypertension hiatal hernia cerebral vascular accident s p motor vehicle colision head injury rib fracture tbm s p tracheoplasty discharge condition good discharge instructions please update dr name ni telephone fax office for fever shortness of breath chest pain productive cough or if you have any questions or concerns completed by\"\r\n",
      "13702,196489,,\"admission date discharge date service medicine allergies amlodipine attending first name3 lf chief complaint copd exacerbation shortness of breath major surgical or invasive procedure intubation arterial line placement picc line placement esophagogastroduodenoscopy history of present illness yo f with h o chf copd on l oxygen at baseline tracheobronchomalacia s p stent presents with acute dyspnea over several days and lethargy this morning patient developed an acute worsening in dyspnea and called ems ems found patient tachypnic at saturating on 5l patient was noted to be tripoding she was given a nebulizer and brought to the er according the patient s husband she was experiencing symptoms consistent with prior copd flares apparently patient was without cough chest pain fevers chills orthopnea pnd dysuria diarrhea confusion and neck pain her husband is a physician and gave her a dose of levaquin this morning in the ed patient was saturating on nrb cxr did not reveal any consolidation per report ekg was unremarkable laboratory evaluation revealed a leukocytosis if and lactate of patient received combivent nebs solumedrol mg iv x1 aspirin mg po x1 mg sulfate g iv x1 azithromycin mg ivx1 levofloxacin mg ivx1 and cefrtiaxone 1g ivx1 patient became tachpnic so was trialed on non invasive ventilation but became hypotensive to systolics of so noninvasive was removed and patient did well on nrb and nebulizers for about hours at that time patient became agitated hypoxic to and tachypnic to the 40s so patient was intubated post intubation abg was propafol was switched to fentanyl midazolam for hypotension to the 80s received 2l of ns on transfer patient vs were on x peep patient has peripheral access x2 in the icu patient appeared comfortable review of sytems limited due to patient sedation past medical history copd flare fev1 in on 5l oxygen s p intubation s p distal tracheal to left main stem stents placed stents d c d tracheobronchoplasty performed cad w atypical angina cath lad rca ef dyslipidemia hypothyroidism hypertension hiatal hernia lacunar cva s p ped struck head injury rib fx depression social history the patient is married and worked as a clinical psychologist her husband is a pediatric neurologist at hospital3 they have several children one of which is a nurse first name titles last name titles with pack years quit years ago social ethanol user no history of ivdu but remote history of marijuana use family history fhx cad father with an mi in his s died of a cva at age physical exam on admission vitals t bp p o2 tv x peep general intubated sedated no apparent discomfort heent sclera anicteric mmm oropharynx clear neck supple jvp not elevated no lad lungs crackles bases bilaterally cv regular rate and rhythm normal s1 s2 no murmurs rubs gallops abdomen soft non tender non distended bowel sounds present no rebound tenderness or guarding no organomegaly gu no foley ext warm well perfused pulses no clubbing cyanosis or edema pertinent results initial labs 55am blood wbc rbc hgb hct mcv mch mchc rdw plt ct 55am blood neuts lymphs monos eos baso 50am blood pt ptt inr pt 55am blood glucose urean creat na k cl hco3 angap 50am blood calcium phos mg cardiac biomarkers 55am blood ck cpk ctropnt 25pm blood ck cpk ck mb mb indx ctropnt 50am blood ck cpk ck mb mb indx ctropnt 04pm blood ck cpk ck mb mb indx ctropnt 15am blood ck cpk ck mb ctropnt probnp cxr impression hiatal hernia otherwise unremarkable limited exam echo there is mild symmetric left ventricular hypertrophy with normal cavity size and regional global systolic function lvef the estimated cardiac index is normal 5l min m2 tissue doppler imaging suggests an increased left ventricular filling pressure pcwp 18mmhg right ventricular chamber size is normal with normal free wall contractility the aortic valve leaflets are mildly thickened but aortic stenosis is not present no aortic regurgitation is seen the mitral valve leaflets are mildly thickened there is no mitral valve prolapse mild mitral regurgitation is seen the tricuspid valve leaflets are mildly thickened there is moderate pulmonary artery systolic hypertension there is an anterior space which most likely represents a prominent fat pad impression normal biventricular systolic function moderate pulmonary artery systolic hypertension cxr kyphotic positioning compared with one day earlier and allowing for technical differences the right sided effusion may be slightly larger otherwise no significant change is detected again seen is retrocardiac opacity consistent with left lower lobe collapse and or consolidation and a small left effusion as noted a right effusion is again seen possibly slightly larger on the current examination with underlying collapse and or consolidation doubt chf degenerative changes of the thoracic spine are noted cardiac enzymes trop trop trop labs at discharge 40am blood wbc rbc hgb hct mcv mch mchc rdw plt ct 40am blood pt ptt inr pt 30am blood glucose urean creat na k cl hco3 angap 40am blood calcium phos mg 40am blood tsh brief hospital course yo f with h o chf copd on l oxygen at baseline tracheobronchomalacia s p stent presents with acute dyspnea over several days no s p intubation for hypercarbic respiratory failure hypercarbic respiratory failure presents with dyspnea but no clear cough or fevers per report patient felt like this with prior copd exacerbations leukocytosis supports possible pneumonia but history and cxr not entirely consistent with this ekg with signs of demand but romi negative sputum gram stain unremarkable but respitatory viral culture grew parainfluenze type on patient was initially managed on solumedrol mg iv q8h and was eventually tapered with no evidence of pneumonia on cxr and sputum gram stain antibiotics were stopped beta agonists and anticholinergics were continued around the clock tte revealed mild symmetric lvh with normal ef increased pcwp 18mmhg normal rv and moderate pulmonary artery systolic hypertension on bronchoscopy revealed collapsible unremarkable airways patient had difficulty weaning from the vent and would become interimittenty hypertensive to sbp 200s and tachypnic to the 50s patient was extubatied on after passing sbt but required re intubation minutes later for worsening secretions lack of gag reflex and tachypnea to the 50s of note on the patient was found to have mrsa growing in sputum samples although it was felt that this likely represented colonization as opposed to true infection the patient was started on a course of vancomycin which was stopped after days after multiple discussions between the patient s family and the icu team the patient s pcp name10 nameis the palliative care service the patient s family ultimately decided that she would not want a tracheostomy on extubation was pursued again and was successful after extubation her respiratory status improved and she was ultimately called out to the medical floor on the floor she was progressively weaned to 2lnc with nebs better than her baseline 5l home because of clinical exams revealing mild volume overload she was intermittently diuresed she also experienced intermittent shortness of breath with tachypnea but this was thought to be the result of attacks of anxiety with tachypnea after receiving prn morphine her breathing status would typically improve a steroid taper was begun the patient should continue prednisone mg daily for more days then mg daily for days then mg daily for days then mg daily for days then stop upper gi bleeding on patient had coffee grounds from og tube lavage for approx 600ccs with clearance gi perfomred egd which revealed esophagitis ulcers and blood in the stomach body d2 diverticulum and large hiatal hernia h pylori was negative patient was continued on iv ppi with plan for repeat egd in weeks and upper gi series once clinically improved given abnormal anatomy on egd her hematocrit remained stable with no further episodes of upper gi bleeding throughout the patient s hospitalization on the floor she was switched to po pantoprazole twice daily aspirin was held weakness the patient was found to have generalized weakness at the end of her hospitalization neurology was consulted and they felt it was likely due to a combination of steroid myopathy and deconditioning from her prolonged bedbound status a tsh was checked which was normal they recommended pulmonary and physical rehab cad history of lad and rca stenosis on cath but no stents continued statin and beta blocker but held aspirin for gi bleeding see above nutrition unable to pass ng without direct visualization due to hiatal hernia ir guided post pyloric ng tube was placed on for tfs and po medications ng tube was pulled when patient was extubated on speech and swallow were consulted following the patient s extubation and she was eventually moved to soft solids and thin liquids with supervision goals of care pcp last name namepattern4 last name stitle was very involved in discussions regarding patient s code status palliative care also followed along with the patient ultimately at the time of the patient s extubation on it was decided that the patient would be dnr dni although this was later change the patient s family felt that she would not want a tracheostomy it was decided that she would not be reintubated and that if her respiratory status were to worsen after intubation care would be focused on comfort however her status improved in the micu and on the floor and it was then decided that she would remain dnr with intubation but no tracheostomy if her breathing deteriorated after several days with stable or improved overall clinical status she was deemed suitable for rehabilitation at the timem of discharge the patient s code status was do not resuscitate okay to intubate medications on admission omeprazole mg daily furosemide mg daily toprol xl mg daily lipitor mg daily folic acid mg daily centrum daily diovan mg daily trazodone mg qhs melatonin mg qhs doctor last name aspirin mg daily albuterol neb prn duoneb prn advair hospital1 zolpidem mg qhs prn synthroid mcg daily lexapro mg daily discharge medications metoprolol succinate mg tablet sustained release hr sig one tablet sustained release hr po once a day atorvastatin mg tablet sig one tablet po daily daily folic acid mg tablet sig one tablet po daily daily multivitamin tablet sig one tablet po daily daily trazodone mg tablet sig one tablet po at bedtime as needed for insomnia melatonin mg tablet sig one tablet po at bedtime valsartan mg tablet sig tablets po once a day albuterol sulfate mg ml solution for nebulization sig one neb inhalation every hours as needed for shortness of breath or wheezing duoneb mg mg mg base ml solution for nebulization sig one neb inhalation every six hours as needed for shortness of breath or wheezing fluticasone salmeterol mcg dose disk with device sig one puff inhalation twice a day escitalopram mg tablet sig two tablet po daily daily levothyroxine mcg tablet sig one tablet po daily daily prednisone mg tablet sig one tablet po daily for days start after days of mg daily prednisone mg tablet sig one tablet po daily for days start after days of mg daily prednisone mg tablet sig one tablet po daily for days start after days of mg daily hydrochlorothiazide mg capsule sig one capsule po daily daily pantoprazole mg tablet delayed release e c sig one tablet delayed release e c po twice a day morphine mg ml solution sig five mg po every four hours as needed for respiratory discomfort hold for oversedation or rr prednisone mg tablet sig three tablet po once a day for days colace mg capsule sig one capsule po twice a day senna mg tablet sig one tablet po twice a day as needed for constipation humalog insulin sliding scale please use attached humalog insulin sliding scale while on steroids discharge disposition extended care facility location center at location un discharge diagnosis primary chronic obstructive pulmonary disease exacerbation respiratory failure with intubation upper gastrointestinal bleed peptic ulcer disease hypertension anxiety secondary coronary artery disease hypothyroidism discharge condition mental status confused sometimes level of consciousness alert and interactive activity status out of bed with assistance to chair or wheelchair discharge instructions you were admitted to the hospital with shortness of breath and respiratory failure and lethargy in the emergency department you were breathing very fast and a breathing tube was inserted into your airway to help you breathe you were admitted to the intensive care unit there you were managed with steroids and antibiotics and the tube was eventually removed from your airway allowing you to breathe on your own you also underwent bronchoscopy which looked at the inside of your airways during your time in the intensive care unit you developed a gastrointestinal bleed a tube was placed into your stomach and you underwent an endoscopic procedure to look at your esophagus and stomach this showed inflammation in your esophagusand ulcers in your stomach you should continue to use nasal oxygen by nasal cannula as needed you should continue the steroid taper as instructed you should call your doctor or return to the emergency room if you have increasing difficulty breathing or shortness of breath wheezing chest pain blood in your stool or vomiting blood there are some changes in your medications start pantoprazole mg twice daily and stop omeprazole start hydrochlorothiazide start prednisone taking mg for days then mg for days then mg for days then mg for days then stop start colace and senna as needed for constipation can use morphine to alleviate symptoms of respiratory discomfort stop furosemide stop zolpidem stop aspirin increase diovan to mg daily decrease trazodone to mg daily follow up as indicated below followup instructions you have an appointment to follow up with dr last name stitle your primary care physician name10 nameis at 1pm his address is location un apartment address location un numeric identifier the phone is telephone fax you have an appointment to follow up with dr first name4 namepattern1 last name namepattern1 in the hospital clinic on at 3pm in the hospital unit name at hospital1 on the location un their phone number is telephone fax department div of gastroenterology when wednesday at pm with first name4 namepattern1 last name namepattern1 md telephone fax building ra hospital unit name hospital ward name hospital ward name complex location un campus east best parking main garage\"\r\n"
     ]
    }
   ],
   "source": [
    "text_df = pd.read_csv(path/'data/disch_full.csv')\n",
    "text_df = text_df.drop('CHARTTIME',axis=1) # they're all missing\n",
    "text_df.head(5)"
   ]
  },
  {
   "cell_type": "code",
   "execution_count": 65,
   "metadata": {},
   "outputs": [
    {
     "data": {
      "text/plain": [
       "(50, 8173.712415342319, 46484)"
      ]
     },
     "execution_count": 65,
     "metadata": {},
     "output_type": "execute_result"
    },
    {
     "data": {
      "image/png": "[encoded data removed]",
      "text/plain": [
       "<Figure size 432x288 with 1 Axes>"
      ]
     },
     "metadata": {},
     "output_type": "display_data"
    }
   ],
   "source": [
    "word_count = np.sort(text_df.TEXT.apply(len))\n",
    "max_word_count = np.max(word_count)\n",
    "mean_word_count = np.mean(word_count)\n",
    "min_word_count = np.min(word_count)\n",
    "plt.hist(word_count)\n",
    "min_word_count, mean_word_count, max_word_count"
   ]
  },
  {
   "cell_type": "code",
   "execution_count": 83,
   "metadata": {},
   "outputs": [
    {
     "name": "stdout",
     "output_type": "stream",
     "text": [
      "<class 'pandas.core.frame.DataFrame'>\n",
      "RangeIndex: 608 entries, 0 to 607\n",
      "Data columns (total 2 columns):\n",
      "SUBJECT_ID    608 non-null int64\n",
      "labels        608 non-null int64\n",
      "dtypes: int64(2)\n",
      "memory usage: 9.6 KB\n"
     ]
    }
   ],
   "source": [
    "labels_df = pd.read_csv(path/'data/suicide_class.csv')\n",
    "labels_df['labels'] = 1\n",
    "labels_df.info()"
   ]
  },
  {
   "cell_type": "code",
   "execution_count": 104,
   "metadata": {},
   "outputs": [
    {
     "data": {
      "text/html": [
       "<div>\n",
       "<style scoped>\n",
       "    .dataframe tbody tr th:only-of-type {\n",
       "        vertical-align: middle;\n",
       "    }\n",
       "\n",
       "    .dataframe tbody tr th {\n",
       "        vertical-align: top;\n",
       "    }\n",
       "\n",
       "    .dataframe thead th {\n",
       "        text-align: right;\n",
       "    }\n",
       "</style>\n",
       "<table border=\"1\" class=\"dataframe\">\n",
       "  <thead>\n",
       "    <tr style=\"text-align: right;\">\n",
       "      <th></th>\n",
       "      <th>labels</th>\n",
       "      <th>text</th>\n",
       "      <th>subject_id</th>\n",
       "      <th>hadm_id</th>\n",
       "    </tr>\n",
       "  </thead>\n",
       "  <tbody>\n",
       "    <tr>\n",
       "      <th>0</th>\n",
       "      <td>0</td>\n",
       "      <td>admission date discharge date service addendum...</td>\n",
       "      <td>22532</td>\n",
       "      <td>167853</td>\n",
       "    </tr>\n",
       "    <tr>\n",
       "      <th>1</th>\n",
       "      <td>0</td>\n",
       "      <td>admission date discharge date date of birth se...</td>\n",
       "      <td>13702</td>\n",
       "      <td>107527</td>\n",
       "    </tr>\n",
       "    <tr>\n",
       "      <th>2</th>\n",
       "      <td>0</td>\n",
       "      <td>admission date discharge date service cardioth...</td>\n",
       "      <td>13702</td>\n",
       "      <td>167118</td>\n",
       "    </tr>\n",
       "    <tr>\n",
       "      <th>3</th>\n",
       "      <td>0</td>\n",
       "      <td>admission date discharge date service medicine...</td>\n",
       "      <td>13702</td>\n",
       "      <td>196489</td>\n",
       "    </tr>\n",
       "    <tr>\n",
       "      <th>4</th>\n",
       "      <td>0</td>\n",
       "      <td>admission date discharge date date of birth se...</td>\n",
       "      <td>26880</td>\n",
       "      <td>135453</td>\n",
       "    </tr>\n",
       "  </tbody>\n",
       "</table>\n",
       "</div>"
      ],
      "text/plain": [
       "   labels                                               text  subject_id  \\\n",
       "0       0  admission date discharge date service addendum...       22532   \n",
       "1       0  admission date discharge date date of birth se...       13702   \n",
       "2       0  admission date discharge date service cardioth...       13702   \n",
       "3       0  admission date discharge date service medicine...       13702   \n",
       "4       0  admission date discharge date date of birth se...       26880   \n",
       "\n",
       "   hadm_id  \n",
       "0   167853  \n",
       "1   107527  \n",
       "2   167118  \n",
       "3   196489  \n",
       "4   135453  "
      ]
     },
     "execution_count": 104,
     "metadata": {},
     "output_type": "execute_result"
    }
   ],
   "source": [
    "df = pd.merge(text_df,labels_df,on='SUBJECT_ID',how='left')\n",
    "df = df[['labels','TEXT','SUBJECT_ID','HADM_ID']]\n",
    "df.columns = [col.lower() for col in df.columns]\n",
    "\n",
    "df = df.fillna(0)\n",
    "df[['labels','subject_id','hadm_id']] = df[['labels','subject_id','hadm_id']].astype(int)\n",
    "df.head()"
   ]
  },
  {
   "cell_type": "code",
   "execution_count": 105,
   "metadata": {},
   "outputs": [
    {
     "data": {
      "text/plain": [
       "0    58736\n",
       "1      916\n",
       "Name: labels, dtype: int64"
      ]
     },
     "execution_count": 105,
     "metadata": {},
     "output_type": "execute_result"
    }
   ],
   "source": [
    "df.labels.value_counts()"
   ]
  },
  {
   "cell_type": "code",
   "execution_count": 106,
   "metadata": {},
   "outputs": [
    {
     "data": {
      "text/plain": [
       "(580,)"
      ]
     },
     "execution_count": 106,
     "metadata": {},
     "output_type": "execute_result"
    }
   ],
   "source": [
    "df.subject_id[df.labels == 1].unique().shape"
   ]
  },
  {
   "cell_type": "code",
   "execution_count": null,
   "metadata": {},
   "outputs": [],
   "source": []
  }
 ],
 "metadata": {
  "kernelspec": {
   "display_name": "Python 3",
   "language": "python",
   "name": "python3"
  },
  "language_info": {
   "codemirror_mode": {
    "name": "ipython",
    "version": 3
   },
   "file_extension": ".py",
   "mimetype": "text/x-python",
   "name": "python",
   "nbconvert_exporter": "python",
   "pygments_lexer": "ipython3",
   "version": "3.6.6"
  }
 },
 "nbformat": 4,
 "nbformat_minor": 2
}
