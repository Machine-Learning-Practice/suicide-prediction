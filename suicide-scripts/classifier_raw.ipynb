{
 "cells": [
  {
   "cell_type": "markdown",
   "metadata": {},
   "source": [
    "# Train-Test Split"
   ]
  },
  {
   "cell_type": "code",
   "execution_count": 15,
   "metadata": {},
   "outputs": [],
   "source": [
    "import numpy as np\n",
    "import pandas as pd\n",
    "import matplotlib.pyplot as plt\n",
    "import os\n",
    "from pathlib import Path\n",
    "from collections import defaultdict\n",
    "from sklearn.metrics import roc_auc_score, f1_score\n",
    "from fastai.text import *\n",
    "\n",
    "seed = 41\n",
    "np.random.seed(seed)\n",
    "torch.manual_seed(seed)\n",
    "\n",
    "import warnings\n",
    "warnings.filterwarnings(action='ignore')"
   ]
  },
  {
   "cell_type": "code",
   "execution_count": 16,
   "metadata": {},
   "outputs": [],
   "source": [
    "path = Path('/home/paperspace/suicides')\n",
    "lm_path = Path('data/lm/')"
   ]
  },
  {
   "cell_type": "code",
   "execution_count": 17,
   "metadata": {},
   "outputs": [],
   "source": [
    "df = pd.read_csv(path/'data/std_format_raw_data.csv',index_col=0)\n",
    "labels = df['labels'].values.copy()\n",
    "tokens = np.load(lm_path/'tmp'/'tokens.npy')"
   ]
  },
  {
   "cell_type": "code",
   "execution_count": 18,
   "metadata": {},
   "outputs": [],
   "source": [
    "# shuffle tokens and labels together\n",
    "idx = np.random.permutation(len(labels))\n",
    "labels = labels[idx]\n",
    "tokens = tokens[idx]"
   ]
  },
  {
   "cell_type": "code",
   "execution_count": 19,
   "metadata": {},
   "outputs": [],
   "source": [
    "num_labels_1 = np.sum(labels==1)\n",
    "ratio = 1 # ratio of 0 labels (non-suicide) to 1 labels (suicide)\n",
    "tokens_label_1 = list(tokens[labels==1])\n",
    "labels_label_1 = list(labels[labels==1])\n",
    "tokens_label_0 = list(tokens[labels==0][:ratio*(num_labels_1+1)])\n",
    "labels_label_0 = list(labels[labels==0][:ratio*(num_labels_1+1)])\n",
    "tokens_balanced = tokens_label_1+tokens_label_0\n",
    "labels_balanced = np.array(labels_label_1+labels_label_0)"
   ]
  },
  {
   "cell_type": "code",
   "execution_count": 20,
   "metadata": {},
   "outputs": [],
   "source": [
    "int_to_str = pickle.load(open(lm_path/'tmp'/'int_to_str.pkl', 'rb'))\n",
    "str_to_int = defaultdict(lambda:0, {v:k for k,v in enumerate(int_to_str)})"
   ]
  },
  {
   "cell_type": "code",
   "execution_count": 21,
   "metadata": {},
   "outputs": [],
   "source": [
    "X = np.array([[str_to_int[o] for o in p] for p in tokens_balanced])\n",
    "y = labels_balanced\n",
    "\n",
    "X_train,X_test,y_train,y_test = sklearn.model_selection.train_test_split(X, y, test_size=0.2, random_state=seed)"
   ]
  },
  {
   "cell_type": "code",
   "execution_count": 22,
   "metadata": {},
   "outputs": [],
   "source": [
    "if ratio>1:\n",
    "    # naively random oversampling positive labels in training set (not test set!!!) to make data balanced\n",
    "    is_0 = np.where(y_train == 0)[0]\n",
    "    is_1 = np.where(y_train == 1)[0]\n",
    "    is_1_up = np.random.choice(is_1, size=len(is_0), replace=True)\n",
    "    X_train_up = np.concatenate((X_train[is_1_up], X_train[is_0]))\n",
    "    y_train_up = np.concatenate((y_train[is_1_up], y_train[is_0]))\n",
    "\n",
    "    # reshuffle training data\n",
    "    idx = np.random.permutation(len(y_train_up))\n",
    "    X_train_up = X_train_up[idx]\n",
    "    y_train_up = y_train_up[idx]\n",
    "else:\n",
    "    X_train_up = X_train\n",
    "    y_train_up = y_train"
   ]
  },
  {
   "cell_type": "markdown",
   "metadata": {},
   "source": [
    "# Training"
   ]
  },
  {
   "cell_type": "code",
   "execution_count": 29,
   "metadata": {},
   "outputs": [],
   "source": [
    "bptt = 70\n",
    "embedding_size = 400\n",
    "num_hidden = 1150\n",
    "num_layers = 3\n",
    "vocab_size = len(int_to_str)\n",
    "bs = 48\n",
    "dropouts = np.array([0.4,0.5,0.05,0.3,0.4])*0.7\n",
    "num_labels = y_test.max()+1\n",
    "opt = partial(optim.Adam, betas=(0.7, 0.99))\n",
    "lr = 3e-3\n",
    "lrm = 2.6\n",
    "lrs = np.array([lr/(lrm**4), lr/(lrm**3), lr/(lrm**2), lr/lrm, lr])\n",
    "wd = 1e-7"
   ]
  },
  {
   "cell_type": "code",
   "execution_count": 24,
   "metadata": {},
   "outputs": [],
   "source": [
    "dataset_train = TextDataset(X_train_up, y_train_up)\n",
    "dataset_test = TextDataset(X_test, y_test)\n",
    "\n",
    "sampler_train = SortishSampler(X_train_up, key=lambda x: len(X_train_up[x]), bs=bs//2)\n",
    "sampler_test = SortSampler(X_test, key=lambda x: len(X_test[x]))\n",
    "\n",
    "dl_train = DataLoader(dataset_train, bs//2, transpose=True, num_workers=1, pad_idx=1, sampler=sampler_train)\n",
    "#dl_test = DataLoader(dataset_test, bs, transpose=True, num_workers=1, pad_idx=1, sampler=sampler_test)\n",
    "dl_test = DataLoader(dataset_test, bs, transpose=True, num_workers=1, pad_idx=1, sampler=None, shuffle=False)\n",
    "\n",
    "model_data = ModelData(path, dl_train, dl_test)"
   ]
  },
  {
   "cell_type": "code",
   "execution_count": 25,
   "metadata": {},
   "outputs": [],
   "source": [
    "model = get_rnn_classifier(bptt, 20*70, num_labels, vocab_size, emb_sz=embedding_size, n_hid=num_hidden, \n",
    "                           n_layers=num_layers, pad_token=1, layers=[embedding_size*3, 50, 2], \n",
    "                           drops=[dropouts[4], 0.1],dropouti=dropouts[0], wdrop=dropouts[1], \n",
    "                           dropoute=dropouts[2], dropouth=dropouts[3])"
   ]
  },
  {
   "cell_type": "code",
   "execution_count": 26,
   "metadata": {},
   "outputs": [],
   "source": [
    "def auc(preds,targs):\n",
    "    try:\n",
    "        preds = preds.cpu().numpy()\n",
    "        preds = np.argmax(preds,axis=1)\n",
    "        targs = targs.cpu().numpy().flatten()\n",
    "        roc = roc_auc_score(targs,preds)\n",
    "    except:\n",
    "        print('Value error occured, setting auc=-1')\n",
    "        roc = -1\n",
    "    return roc\n",
    "def F1(preds,targs):\n",
    "    try:\n",
    "        preds = preds.cpu().numpy()\n",
    "        preds = np.argmax(preds,axis=1)\n",
    "        targs = targs.cpu().numpy().flatten()\n",
    "        f1 = f1_score(targs,preds)\n",
    "    except:\n",
    "        print('Value error occured, setting F1=-1')\n",
    "        f1 = -1\n",
    "    return f1"
   ]
  },
  {
   "cell_type": "code",
   "execution_count": 27,
   "metadata": {},
   "outputs": [],
   "source": [
    "learner = RNN_Learner(model_data, TextModel(to_gpu(model)), opt_fn=opt, metrics=[accuracy,F1,auc])\n",
    "learner.reg_fn = partial(seq2seq_reg, alpha=2, beta=1)\n",
    "learner.clip = 25.\n",
    "learner.load_encoder('lm_last_fit_full_encoder')\n",
    "learner.freeze_to(-1)"
   ]
  },
  {
   "cell_type": "code",
   "execution_count": 28,
   "metadata": {},
   "outputs": [
    {
     "data": {
      "application/vnd.jupyter.widget-view+json": {
       "model_id": "a321ccf90d4f4a1abcd3d81b9020ce35",
       "version_major": 2,
       "version_minor": 0
      },
      "text/html": [
       "<p>Failed to display Jupyter Widget of type <code>HBox</code>.</p>\n",
       "<p>\n",
       "  If you're reading this message in the Jupyter Notebook or JupyterLab Notebook, it may mean\n",
       "  that the widgets JavaScript is still loading. If this message persists, it\n",
       "  likely means that the widgets JavaScript library is either not installed or\n",
       "  not enabled. See the <a href=\"https://ipywidgets.readthedocs.io/en/stable/user_install.html\">Jupyter\n",
       "  Widgets Documentation</a> for setup instructions.\n",
       "</p>\n",
       "<p>\n",
       "  If you're reading this message in another frontend (for example, a static\n",
       "  rendering on GitHub or <a href=\"https://nbviewer.jupyter.org/\">NBViewer</a>),\n",
       "  it may mean that your frontend doesn't currently support widgets.\n",
       "</p>\n"
      ],
      "text/plain": [
       "HBox(children=(IntProgress(value=0, description='Epoch', max=1), HTML(value='')))"
      ]
     },
     "metadata": {},
     "output_type": "display_data"
    },
    {
     "name": "stdout",
     "output_type": "stream",
     "text": [
      "  0%|          | 0/62 [00:00<?, ?it/s]                     \n"
     ]
    },
    {
     "name": "stderr",
     "output_type": "stream",
     "text": [
      "Exception in thread Thread-4:\n",
      "Traceback (most recent call last):\n",
      "  File \"/home/paperspace/anaconda3/envs/fastai/lib/python3.6/threading.py\", line 916, in _bootstrap_inner\n",
      "    self.run()\n",
      "  File \"/home/paperspace/anaconda3/envs/fastai/lib/python3.6/site-packages/tqdm/_tqdm.py\", line 144, in run\n",
      "    for instance in self.tqdm_cls._instances:\n",
      "  File \"/home/paperspace/anaconda3/envs/fastai/lib/python3.6/_weakrefset.py\", line 60, in __iter__\n",
      "    for itemref in self.data:\n",
      "RuntimeError: Set changed size during iteration\n",
      "\n"
     ]
    },
    {
     "name": "stdout",
     "output_type": "stream",
     "text": [
      " 84%|████████▍ | 52/62 [01:04<00:12,  1.24s/it, loss=1.58] \n"
     ]
    },
    {
     "data": {
      "image/png": "[encoded data removed]",
      "text/plain": [
       "<matplotlib.figure.Figure at 0x7f290262f160>"
      ]
     },
     "metadata": {},
     "output_type": "display_data"
    }
   ],
   "source": [
    "learner.lr_find(lrs/1000)\n",
    "learner.sched.plot()"
   ]
  },
  {
   "cell_type": "code",
   "execution_count": 30,
   "metadata": {},
   "outputs": [
    {
     "data": {
      "application/vnd.jupyter.widget-view+json": {
       "model_id": "1b42db378379445dbf2614b5ece6d5c8",
       "version_major": 2,
       "version_minor": 0
      },
      "text/html": [
       "<p>Failed to display Jupyter Widget of type <code>HBox</code>.</p>\n",
       "<p>\n",
       "  If you're reading this message in the Jupyter Notebook or JupyterLab Notebook, it may mean\n",
       "  that the widgets JavaScript is still loading. If this message persists, it\n",
       "  likely means that the widgets JavaScript library is either not installed or\n",
       "  not enabled. See the <a href=\"https://ipywidgets.readthedocs.io/en/stable/user_install.html\">Jupyter\n",
       "  Widgets Documentation</a> for setup instructions.\n",
       "</p>\n",
       "<p>\n",
       "  If you're reading this message in another frontend (for example, a static\n",
       "  rendering on GitHub or <a href=\"https://nbviewer.jupyter.org/\">NBViewer</a>),\n",
       "  it may mean that your frontend doesn't currently support widgets.\n",
       "</p>\n"
      ],
      "text/plain": [
       "HBox(children=(IntProgress(value=0, description='Epoch', max=10), HTML(value='')))"
      ]
     },
     "metadata": {},
     "output_type": "display_data"
    },
    {
     "name": "stdout",
     "output_type": "stream",
     "text": [
      "epoch      trn_loss   val_loss   accuracy   F1         auc        \n",
      "    0      0.559315   0.621766   0.675749   0.61645    0.66775   \n",
      "    1      0.505593   0.591342   0.746594   0.644038   0.726606  \n",
      "    2      0.496297   0.513562   0.757493   0.666804   0.73991   \n",
      "    3      0.504554   0.493959   0.754768   0.674524   0.738005  \n",
      "    4      0.48473    0.533696   0.743869   0.636558   0.725782  \n",
      "    5      0.488727   0.470733   0.754768   0.660888   0.737675  \n",
      "    6      0.464358   0.489378   0.762943   0.672949   0.745439  \n",
      "    7      0.469297   0.49725    0.746594   0.644673   0.727852  \n",
      "    8      0.43013    0.488344   0.752044   0.647589   0.731818  \n",
      "    9      0.465323   0.518435   0.749319   0.638491   0.728348  \n",
      "\n"
     ]
    },
    {
     "data": {
      "text/plain": [
       "[array([ 0.51844]),\n",
       " 0.74931879670483537,\n",
       " 0.63849082702437776,\n",
       " 0.72834813975593005]"
      ]
     },
     "execution_count": 30,
     "metadata": {},
     "output_type": "execute_result"
    }
   ],
   "source": [
    "learner.fit(lrs, 1, wds=wd, cycle_len=10, use_clr=(8,3))\n",
    "#learner.save('clf_tmp1')"
   ]
  },
  {
   "cell_type": "code",
   "execution_count": 31,
   "metadata": {},
   "outputs": [
    {
     "data": {
      "application/vnd.jupyter.widget-view+json": {
       "model_id": "3ef8f53be2ac46f9924ddbeab025cd80",
       "version_major": 2,
       "version_minor": 0
      },
      "text/html": [
       "<p>Failed to display Jupyter Widget of type <code>HBox</code>.</p>\n",
       "<p>\n",
       "  If you're reading this message in the Jupyter Notebook or JupyterLab Notebook, it may mean\n",
       "  that the widgets JavaScript is still loading. If this message persists, it\n",
       "  likely means that the widgets JavaScript library is either not installed or\n",
       "  not enabled. See the <a href=\"https://ipywidgets.readthedocs.io/en/stable/user_install.html\">Jupyter\n",
       "  Widgets Documentation</a> for setup instructions.\n",
       "</p>\n",
       "<p>\n",
       "  If you're reading this message in another frontend (for example, a static\n",
       "  rendering on GitHub or <a href=\"https://nbviewer.jupyter.org/\">NBViewer</a>),\n",
       "  it may mean that your frontend doesn't currently support widgets.\n",
       "</p>\n"
      ],
      "text/plain": [
       "HBox(children=(IntProgress(value=0, description='Epoch', max=10), HTML(value='')))"
      ]
     },
     "metadata": {},
     "output_type": "display_data"
    },
    {
     "name": "stdout",
     "output_type": "stream",
     "text": [
      "epoch      trn_loss   val_loss   accuracy   F1         auc        \n",
      "    0      0.429842   0.508345   0.73842    0.612211   0.717031  \n",
      "    1      0.48086    0.546719   0.743869   0.649245   0.724528  \n",
      "    2      0.445901   0.515684   0.760218   0.659899   0.740114  \n",
      "    3      0.459717   0.585774   0.73842    0.603009   0.71423   \n",
      "    4      0.440359   0.602096   0.749319   0.739099   0.751444  \n",
      "    5      0.422634   0.508611   0.771117   0.672519   0.750724  \n",
      "    6      0.411085   0.495621   0.79564    0.730642   0.781097  \n",
      "    7      0.398806   0.671865   0.754768   0.63705    0.734853  \n",
      "    8      0.381756   0.450636   0.79564    0.733339   0.781765  \n",
      "    9      0.372775   0.419201   0.809264   0.752968   0.796199  \n",
      "\n"
     ]
    },
    {
     "data": {
      "text/plain": [
       "[array([ 0.4192]),\n",
       " 0.80926430322818599,\n",
       " 0.75296757699470684,\n",
       " 0.79619898970514624]"
      ]
     },
     "execution_count": 31,
     "metadata": {},
     "output_type": "execute_result"
    }
   ],
   "source": [
    "learner.freeze_to(-2)\n",
    "learner.fit(lrs, 1, wds=wd, cycle_len=10, use_clr=(8,3))\n",
    "#learner.save('clf_tmp2')"
   ]
  },
  {
   "cell_type": "code",
   "execution_count": 32,
   "metadata": {},
   "outputs": [
    {
     "data": {
      "application/vnd.jupyter.widget-view+json": {
       "model_id": "d7d70e56bdbf4bf6ac0882698d676184",
       "version_major": 2,
       "version_minor": 0
      },
      "text/html": [
       "<p>Failed to display Jupyter Widget of type <code>HBox</code>.</p>\n",
       "<p>\n",
       "  If you're reading this message in the Jupyter Notebook or JupyterLab Notebook, it may mean\n",
       "  that the widgets JavaScript is still loading. If this message persists, it\n",
       "  likely means that the widgets JavaScript library is either not installed or\n",
       "  not enabled. See the <a href=\"https://ipywidgets.readthedocs.io/en/stable/user_install.html\">Jupyter\n",
       "  Widgets Documentation</a> for setup instructions.\n",
       "</p>\n",
       "<p>\n",
       "  If you're reading this message in another frontend (for example, a static\n",
       "  rendering on GitHub or <a href=\"https://nbviewer.jupyter.org/\">NBViewer</a>),\n",
       "  it may mean that your frontend doesn't currently support widgets.\n",
       "</p>\n"
      ],
      "text/plain": [
       "HBox(children=(IntProgress(value=0, description='Epoch', max=5), HTML(value='')))"
      ]
     },
     "metadata": {},
     "output_type": "display_data"
    },
    {
     "name": "stdout",
     "output_type": "stream",
     "text": [
      "epoch      trn_loss   val_loss   accuracy   F1         auc        \n",
      "    0      0.35443    0.469472   0.80654    0.759192   0.795974  \n",
      "    1      0.394834   0.612359   0.798365   0.730233   0.783135  \n",
      "    2      0.359095   0.393794   0.836512   0.791179   0.826786  \n",
      "    3      0.328546   0.35958    0.841962   0.812326   0.836945  \n",
      "    4      0.297317   0.328974   0.850136   0.817019   0.843027  \n",
      "\n"
     ]
    },
    {
     "data": {
      "text/plain": [
       "[array([ 0.32897]),\n",
       " 0.85013623507211256,\n",
       " 0.81701852731820823,\n",
       " 0.84302684206460721]"
      ]
     },
     "execution_count": 32,
     "metadata": {},
     "output_type": "execute_result"
    }
   ],
   "source": [
    "learner.unfreeze()\n",
    "learner.fit(lrs, 1, wds=wd, cycle_len=5, use_clr=(8,3))\n",
    "#learner.save('clf_tmp3')"
   ]
  },
  {
   "cell_type": "markdown",
   "metadata": {},
   "source": [
    "# Model Eval"
   ]
  },
  {
   "cell_type": "code",
   "execution_count": null,
   "metadata": {},
   "outputs": [],
   "source": [
    "#learner.fit(lrs, 1, wds=wd, cycle_len=1, use_clr=(8,3))\n",
    "#learner.load('clf_tmp2')"
   ]
  },
  {
   "cell_type": "code",
   "execution_count": null,
   "metadata": {},
   "outputs": [],
   "source": [
    "preds = learner.predict()\n",
    "preds.shape,y_test.shape"
   ]
  },
  {
   "cell_type": "code",
   "execution_count": null,
   "metadata": {},
   "outputs": [],
   "source": [
    "yhat = np.argmax(np.exp(preds),axis=1)\n",
    "np.sum(yhat==y_test)/len(y_test)"
   ]
  },
  {
   "cell_type": "code",
   "execution_count": null,
   "metadata": {},
   "outputs": [],
   "source": [
    "#np.max(np.exp(preds[:,-1]))"
   ]
  },
  {
   "cell_type": "code",
   "execution_count": null,
   "metadata": {},
   "outputs": [],
   "source": [
    "# get predictions\n",
    "preds_dist, preds = learner.predict_with_targs()\n",
    "\n",
    "# prepare for accuracy measurement\n",
    "preds = preds.flatten()\n",
    "golds = learner.data.val_y\n",
    "\n",
    "print(np.sum(preds==golds)/len(golds))"
   ]
  },
  {
   "cell_type": "code",
   "execution_count": null,
   "metadata": {},
   "outputs": [],
   "source": [
    "preds[:10],golds[:10],y_test[:10]"
   ]
  },
  {
   "cell_type": "code",
   "execution_count": null,
   "metadata": {},
   "outputs": [],
   "source": [
    "#print(np.sum(np.argmax(preds_dist[:,1],axis=1)==golds)/len(golds))\n",
    "preds_dist[:10]"
   ]
  },
  {
   "cell_type": "code",
   "execution_count": null,
   "metadata": {},
   "outputs": [],
   "source": [
    "??predict_with_targs_"
   ]
  },
  {
   "cell_type": "code",
   "execution_count": null,
   "metadata": {},
   "outputs": [],
   "source": [
    "#tmp = predict_with_targs_(learner.model,dl_test)\n",
    "p,t = tmp\n",
    "ntmp = np.concatenate(p), np.concatenate(t)\n",
    "ntmp[:10]"
   ]
  },
  {
   "cell_type": "code",
   "execution_count": null,
   "metadata": {},
   "outputs": [],
   "source": [
    "i=0\n",
    "for *x,y in iter(dl_test):\n",
    "    print(to_np(learner.model(*VV(x))),y)\n",
    "    i+=1\n",
    "    if i>10:\n",
    "        break"
   ]
  },
  {
   "cell_type": "code",
   "execution_count": null,
   "metadata": {},
   "outputs": [],
   "source": [
    "tup = learner.model(*VV(x))#.data).float()"
   ]
  },
  {
   "cell_type": "code",
   "execution_count": null,
   "metadata": {},
   "outputs": [],
   "source": [
    "len(tup[2])"
   ]
  },
  {
   "cell_type": "code",
   "execution_count": null,
   "metadata": {},
   "outputs": [],
   "source": []
  }
 ],
 "metadata": {
  "kernelspec": {
   "display_name": "Python 3",
   "language": "python",
   "name": "python3"
  },
  "language_info": {
   "codemirror_mode": {
    "name": "ipython",
    "version": 3
   },
   "file_extension": ".py",
   "mimetype": "text/x-python",
   "name": "python",
   "nbconvert_exporter": "python",
   "pygments_lexer": "ipython3",
   "version": "3.6.4"
  }
 },
 "nbformat": 4,
 "nbformat_minor": 2
}
