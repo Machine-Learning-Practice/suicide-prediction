{
 "cells": [
  {
   "cell_type": "markdown",
   "metadata": {},
   "source": [
    "# Tokenization"
   ]
  },
  {
   "cell_type": "code",
   "execution_count": 1,
   "metadata": {},
   "outputs": [],
   "source": [
    "import numpy as np\n",
    "import pandas as pd\n",
    "import matplotlib.pyplot as plt\n",
    "import os\n",
    "from pathlib import Path\n",
    "from collections import defaultdict\n",
    "from fastai.text import *\n",
    "np.random.seed(42)\n",
    "\n",
    "import warnings\n",
    "warnings.filterwarnings(action='ignore')"
   ]
  },
  {
   "cell_type": "code",
   "execution_count": 2,
   "metadata": {},
   "outputs": [],
   "source": [
    "path = Path('/home/paperspace/suicides')\n",
    "lm_path = Path('data/lm/')"
   ]
  },
  {
   "cell_type": "code",
   "execution_count": 3,
   "metadata": {},
   "outputs": [],
   "source": [
    "df = pd.read_csv(path/'data/std_format_raw_data.csv',index_col=0)"
   ]
  },
  {
   "cell_type": "code",
   "execution_count": 4,
   "metadata": {},
   "outputs": [],
   "source": [
    "f = Path('data/lm/tmp/tokens.npy')\n",
    "if not f.is_file():\n",
    "    texts = df.text.apply(lambda x: 'xbof '+x)\n",
    "    tok = Tokenizer()\n",
    "    tokens = []\n",
    "    for i,text in enumerate(texts):\n",
    "        tokens.append(tok.proc_text(text))\n",
    "        if i%(len(texts)//10) == 0:\n",
    "            print(i/len(texts)*100,' percent done')\n",
    "    lm_path.mkdir(exist_ok=True)\n",
    "    (lm_path/'tmp').mkdir(exist_ok=True)\n",
    "    np.save(lm_path/'tmp'/'tokens.npy', tokens)\n",
    "else:\n",
    "    tokens = np.load(lm_path/'tmp'/'tokens.npy')"
   ]
  },
  {
   "cell_type": "code",
   "execution_count": 5,
   "metadata": {},
   "outputs": [
    {
     "name": "stdout",
     "output_type": "stream",
     "text": [
      "Full vocab size:  377618\n",
      "Top 20 occuring words:\n"
     ]
    },
    {
     "data": {
      "text/plain": [
       "[('*', 11203884),\n",
       " ('\\n', 9508265),\n",
       " ('.', 6671207),\n",
       " ('t_up', 5542099),\n",
       " ('-', 3509054),\n",
       " (',', 3497876),\n",
       " (':', 3433106),\n",
       " (']', 2658757),\n",
       " ('[', 2523815),\n",
       " ('the', 2064814),\n",
       " (')', 2061053),\n",
       " ('(', 1908151),\n",
       " ('and', 1813555),\n",
       " ('to', 1522031),\n",
       " ('of', 1521027),\n",
       " ('was', 1424638),\n",
       " ('with', 1085054),\n",
       " ('\\n\\n', 1079766),\n",
       " ('/', 1045644),\n",
       " ('a', 1009812)]"
      ]
     },
     "execution_count": 5,
     "metadata": {},
     "output_type": "execute_result"
    }
   ],
   "source": [
    "# get most commonly occuring tokens\n",
    "freq = Counter(p for o in tokens for p in o)\n",
    "print('Full vocab size: ',len(freq))\n",
    "print('Top 20 occuring words:')\n",
    "freq.most_common(20)"
   ]
  },
  {
   "cell_type": "code",
   "execution_count": 6,
   "metadata": {},
   "outputs": [],
   "source": [
    "max_vocab = 150000\n",
    "min_freq = 2"
   ]
  },
  {
   "cell_type": "code",
   "execution_count": 7,
   "metadata": {},
   "outputs": [
    {
     "name": "stdout",
     "output_type": "stream",
     "text": [
      "truncated vocab size:  118646\n"
     ]
    }
   ],
   "source": [
    "int_to_str = [o for o,c in freq.most_common(max_vocab) if c>min_freq]\n",
    "int_to_str.insert(0, '_pad_')\n",
    "int_to_str.insert(0, '_unk_')\n",
    "str_to_int = defaultdict(lambda:0, {v:k for k,v in enumerate(int_to_str)})\n",
    "\n",
    "vocab_size = len(int_to_str)\n",
    "print('truncated vocab size: ',vocab_size)"
   ]
  },
  {
   "cell_type": "markdown",
   "metadata": {},
   "source": [
    "# Forward Language Model"
   ]
  },
  {
   "cell_type": "code",
   "execution_count": 8,
   "metadata": {},
   "outputs": [],
   "source": [
    "f = Path('data/lm/tmp/language_model.npy')\n",
    "g = Path('data/lm/tmp/int_to_str.npy')\n",
    "if not (f.is_file() and g.is_file()):\n",
    "    language_model = np.array([[str_to_int[o] for o in p] for p in tokens])\n",
    "    np.save(lm_path/'tmp'/'language_model.npy', language_model)\n",
    "    pickle.dump(int_to_str, open(lm_path/'tmp'/'int_to_str.pkl', 'wb'))\n",
    "else:\n",
    "    language_model = np.load(lm_path/'tmp'/'language_model.npy')\n",
    "    int_to_str = pickle.load(open(lm_path/'tmp'/'int_to_str.pkl', 'rb'))"
   ]
  },
  {
   "cell_type": "code",
   "execution_count": 9,
   "metadata": {},
   "outputs": [],
   "source": [
    "#! wget -nH -r -np -P {lm_path} http://files.fast.ai/models/wt103/\n",
    "weights = torch.load(lm_path/'models/wt103/fwd_wt103.h5', map_location=lambda storage, loc: storage)"
   ]
  },
  {
   "cell_type": "code",
   "execution_count": 10,
   "metadata": {},
   "outputs": [],
   "source": [
    "encoder_weights = to_np(weights['0.encoder.weight'])\n",
    "row_means = encoder_weights.mean(0)"
   ]
  },
  {
   "cell_type": "code",
   "execution_count": 11,
   "metadata": {},
   "outputs": [],
   "source": [
    "embedding_size = 400\n",
    "num_hidden = 1150\n",
    "num_layers = 3"
   ]
  },
  {
   "cell_type": "code",
   "execution_count": 12,
   "metadata": {},
   "outputs": [],
   "source": [
    "# key used for wiki103\n",
    "int_to_str_wiki = pickle.load((lm_path/'models'/'wt103'/'itos_wt103.pkl').open('rb'))\n",
    "str_to_int_wiki = defaultdict(lambda:-1, {v:k for k,v in enumerate(int_to_str_wiki)})"
   ]
  },
  {
   "cell_type": "code",
   "execution_count": 13,
   "metadata": {},
   "outputs": [],
   "source": [
    "# map suicide embedding weights to wiki103 embedding weights\n",
    "new_weights = np.zeros((vocab_size, embedding_size), dtype=np.float32)\n",
    "for i,w in enumerate(int_to_str):\n",
    "    row = str_to_int_wiki[w]\n",
    "    new_weights[i] = encoder_weights[row] if row>=0 else row_means"
   ]
  },
  {
   "cell_type": "code",
   "execution_count": 14,
   "metadata": {},
   "outputs": [],
   "source": [
    "weights['0.encoder.weight'] = T(new_weights)\n",
    "weights['0.encoder_with_dropout.embed.weight'] = T(np.copy(new_weights))\n",
    "weights['1.decoder.weight'] = T(np.copy(new_weights))"
   ]
  },
  {
   "cell_type": "code",
   "execution_count": 15,
   "metadata": {},
   "outputs": [],
   "source": [
    "# hyperparameters for language model\n",
    "wd =1e-7\n",
    "bptt = 70\n",
    "bs = 32\n",
    "lr = 1e-3\n",
    "opt = partial(optim.Adam, betas=(0.8, 0.99))"
   ]
  },
  {
   "cell_type": "code",
   "execution_count": 16,
   "metadata": {},
   "outputs": [],
   "source": [
    "size = len(language_model)\n",
    "lm_train,lm_val = sklearn.model_selection.train_test_split(language_model[:size], test_size=0.1)\n",
    "\n",
    "dl_train = LanguageModelLoader(np.concatenate(lm_train), bs, bptt)\n",
    "dl_val = LanguageModelLoader(np.concatenate(lm_val), bs, bptt)\n",
    "model = LanguageModelData(path, 1, vocab_size, dl_train, dl_val, bs=bs, bptt=bptt)\n",
    "dropouts = np.array([0.25, 0.1, 0.2, 0.02, 0.15])*0.7"
   ]
  },
  {
   "cell_type": "code",
   "execution_count": 17,
   "metadata": {},
   "outputs": [],
   "source": [
    "learner = model.get_model(opt, embedding_size, num_hidden, num_layers, \n",
    "    dropouti=dropouts[0], dropout=dropouts[1], wdrop=dropouts[2], dropoute=dropouts[3], dropouth=dropouts[4])\n",
    "\n",
    "learner.metrics = [accuracy]\n",
    "learner.freeze_to(-1)\n",
    "learner.model.load_state_dict(weights)"
   ]
  },
  {
   "cell_type": "code",
   "execution_count": 21,
   "metadata": {},
   "outputs": [],
   "source": [
    "#learner.lr_find(start_lr=lr/10, end_lr=lr*10, linear=True)\n",
    "#learner.sched.plot()\n",
    "#learner.load('lm_last_fit_full')\n",
    "learner.save_encoder('lm_last_fit_full_encoder')"
   ]
  },
  {
   "cell_type": "code",
   "execution_count": 22,
   "metadata": {},
   "outputs": [
    {
     "data": {
      "application/vnd.jupyter.widget-view+json": {
       "model_id": "4011d568fa764f049e04b252275a384d",
       "version_major": 2,
       "version_minor": 0
      },
      "text/html": [
       "<p>Failed to display Jupyter Widget of type <code>HBox</code>.</p>\n",
       "<p>\n",
       "  If you're reading this message in the Jupyter Notebook or JupyterLab Notebook, it may mean\n",
       "  that the widgets JavaScript is still loading. If this message persists, it\n",
       "  likely means that the widgets JavaScript library is either not installed or\n",
       "  not enabled. See the <a href=\"https://ipywidgets.readthedocs.io/en/stable/user_install.html\">Jupyter\n",
       "  Widgets Documentation</a> for setup instructions.\n",
       "</p>\n",
       "<p>\n",
       "  If you're reading this message in another frontend (for example, a static\n",
       "  rendering on GitHub or <a href=\"https://nbviewer.jupyter.org/\">NBViewer</a>),\n",
       "  it may mean that your frontend doesn't currently support widgets.\n",
       "</p>\n"
      ],
      "text/plain": [
       "HBox(children=(IntProgress(value=0, description='Epoch', max=1), HTML(value='')))"
      ]
     },
     "metadata": {},
     "output_type": "display_data"
    },
    {
     "name": "stdout",
     "output_type": "stream",
     "text": [
      "  0%|          | 50/59020 [00:08<2:42:47,  6.04it/s, loss=8.03] \n",
      "  0%|          | 51/59020 [00:08<2:42:42,  6.04it/s, loss=8.03]"
     ]
    },
    {
     "name": "stderr",
     "output_type": "stream",
     "text": [
      "Exception in thread Thread-4:\n",
      "Traceback (most recent call last):\n",
      "  File \"/home/paperspace/anaconda3/envs/fastai/lib/python3.6/threading.py\", line 916, in _bootstrap_inner\n",
      "    self.run()\n",
      "  File \"/home/paperspace/anaconda3/envs/fastai/lib/python3.6/site-packages/tqdm/_tqdm.py\", line 144, in run\n",
      "    for instance in self.tqdm_cls._instances:\n",
      "  File \"/home/paperspace/anaconda3/envs/fastai/lib/python3.6/_weakrefset.py\", line 60, in __iter__\n",
      "    for itemref in self.data:\n",
      "RuntimeError: Set changed size during iteration\n",
      "\n"
     ]
    },
    {
     "name": "stdout",
     "output_type": "stream",
     "text": [
      "epoch      trn_loss   val_loss   accuracy                           \n",
      "    0      2.871062   2.591112   0.512873  \n",
      "\n"
     ]
    }
   ],
   "source": [
    "learner.fit(lr, 1, wds=wd, use_clr=(32,2), cycle_len=1)\n",
    "learner.save('lm_last_fit_full')\n",
    "learner.save_encoder('lm_last_fit_full_encoder')"
   ]
  },
  {
   "cell_type": "code",
   "execution_count": 25,
   "metadata": {},
   "outputs": [
    {
     "data": {
      "image/png": "[encoded data removed]",
      "text/plain": [
       "<matplotlib.figure.Figure at 0x7fae46692278>"
      ]
     },
     "metadata": {},
     "output_type": "display_data"
    }
   ],
   "source": [
    "learner.sched.plot_loss()"
   ]
  },
  {
   "cell_type": "markdown",
   "metadata": {},
   "source": [
    "# Backward Language Model"
   ]
  },
  {
   "cell_type": "code",
   "execution_count": 22,
   "metadata": {},
   "outputs": [],
   "source": [
    "f = Path('data/lm/tmp/language_model.npy')\n",
    "g = Path('data/lm/tmp/int_to_str.npy')\n",
    "if not (f.is_file() and g.is_file()):\n",
    "    language_model = np.array([[str_to_int[o] for o in p] for p in tokens])\n",
    "    np.save(lm_path/'tmp'/'language_model.npy', language_model)\n",
    "    pickle.dump(int_to_str, open(lm_path/'tmp'/'int_to_str.pkl', 'wb'))\n",
    "else:\n",
    "    language_model = np.load(lm_path/'tmp'/'language_model.npy')\n",
    "    int_to_str = pickle.load(open(lm_path/'tmp'/'int_to_str.pkl', 'rb'))"
   ]
  },
  {
   "cell_type": "code",
   "execution_count": 23,
   "metadata": {},
   "outputs": [],
   "source": [
    "reversed_language_model = []\n",
    "for doc_vector in language_model:\n",
    "    reversed_doc_vector = doc_vector[::-1]#[:-1]\n",
    "    #reversed_doc_vector.insert(0,str_to_int('xbof'))\n",
    "    reversed_language_model.append(reversed_doc_vector)\n",
    "reversed_language_model = np.array(reversed_language_model)"
   ]
  },
  {
   "cell_type": "code",
   "execution_count": 24,
   "metadata": {},
   "outputs": [],
   "source": [
    "weights = torch.load(lm_path/'models/wt103/bwd_wt103.h5', map_location=lambda storage, loc: storage)"
   ]
  },
  {
   "cell_type": "code",
   "execution_count": 25,
   "metadata": {},
   "outputs": [],
   "source": [
    "encoder_weights = to_np(weights['0.encoder.weight'])\n",
    "row_means = encoder_weights.mean(0)"
   ]
  },
  {
   "cell_type": "code",
   "execution_count": 26,
   "metadata": {},
   "outputs": [],
   "source": [
    "embedding_size = 400\n",
    "num_hidden = 1150\n",
    "num_layers = 3"
   ]
  },
  {
   "cell_type": "code",
   "execution_count": 27,
   "metadata": {},
   "outputs": [],
   "source": [
    "# key used for wiki103\n",
    "int_to_str_wiki = pickle.load((lm_path/'models'/'wt103'/'itos_wt103.pkl').open('rb'))\n",
    "str_to_int_wiki = defaultdict(lambda:-1, {v:k for k,v in enumerate(int_to_str_wiki)})"
   ]
  },
  {
   "cell_type": "code",
   "execution_count": 28,
   "metadata": {},
   "outputs": [],
   "source": [
    "# map suicide embedding weights to wiki103 embedding weights\n",
    "new_weights = np.zeros((vocab_size, embedding_size), dtype=np.float32)\n",
    "for i,w in enumerate(int_to_str):\n",
    "    row = str_to_int_wiki[w]\n",
    "    new_weights[i] = encoder_weights[row] if row>=0 else row_means"
   ]
  },
  {
   "cell_type": "code",
   "execution_count": 29,
   "metadata": {},
   "outputs": [],
   "source": [
    "weights['0.encoder.weight'] = T(new_weights)\n",
    "weights['0.encoder_with_dropout.embed.weight'] = T(np.copy(new_weights))\n",
    "weights['1.decoder.weight'] = T(np.copy(new_weights))"
   ]
  },
  {
   "cell_type": "code",
   "execution_count": 30,
   "metadata": {},
   "outputs": [],
   "source": [
    "# hyperparameters for language model\n",
    "wd =1e-7\n",
    "bptt = 70\n",
    "bs = 32\n",
    "lr = 1e-3\n",
    "opt = partial(optim.Adam, betas=(0.8, 0.99))"
   ]
  },
  {
   "cell_type": "code",
   "execution_count": 31,
   "metadata": {},
   "outputs": [],
   "source": [
    "size = len(reversed_language_model)\n",
    "lm_train,lm_val = sklearn.model_selection.train_test_split(reversed_language_model[:size], test_size=0.1)\n",
    "\n",
    "dl_train = LanguageModelLoader(np.concatenate(lm_train), bs, bptt)\n",
    "dl_val = LanguageModelLoader(np.concatenate(lm_val), bs, bptt)\n",
    "model = LanguageModelData(path, 1, vocab_size, dl_train, dl_val, bs=bs, bptt=bptt)\n",
    "dropouts = np.array([0.25, 0.1, 0.2, 0.02, 0.15])*0.7"
   ]
  },
  {
   "cell_type": "code",
   "execution_count": 32,
   "metadata": {},
   "outputs": [],
   "source": [
    "learner = model.get_model(opt, embedding_size, num_hidden, num_layers, \n",
    "    dropouti=dropouts[0], dropout=dropouts[1], wdrop=dropouts[2], dropoute=dropouts[3], dropouth=dropouts[4])\n",
    "\n",
    "learner.metrics = [accuracy]\n",
    "learner.freeze_to(-1)\n",
    "learner.model.load_state_dict(weights)"
   ]
  },
  {
   "cell_type": "code",
   "execution_count": 19,
   "metadata": {},
   "outputs": [
    {
     "data": {
      "application/vnd.jupyter.widget-view+json": {
       "model_id": "6beb2d7c7ad94a29ad6eae084a74abde",
       "version_major": 2,
       "version_minor": 0
      },
      "text/html": [
       "<p>Failed to display Jupyter Widget of type <code>HBox</code>.</p>\n",
       "<p>\n",
       "  If you're reading this message in the Jupyter Notebook or JupyterLab Notebook, it may mean\n",
       "  that the widgets JavaScript is still loading. If this message persists, it\n",
       "  likely means that the widgets JavaScript library is either not installed or\n",
       "  not enabled. See the <a href=\"https://ipywidgets.readthedocs.io/en/stable/user_install.html\">Jupyter\n",
       "  Widgets Documentation</a> for setup instructions.\n",
       "</p>\n",
       "<p>\n",
       "  If you're reading this message in another frontend (for example, a static\n",
       "  rendering on GitHub or <a href=\"https://nbviewer.jupyter.org/\">NBViewer</a>),\n",
       "  it may mean that your frontend doesn't currently support widgets.\n",
       "</p>\n"
      ],
      "text/plain": [
       "HBox(children=(IntProgress(value=0, description='Epoch', max=1), HTML(value='')))"
      ]
     },
     "metadata": {},
     "output_type": "display_data"
    },
    {
     "name": "stdout",
     "output_type": "stream",
     "text": [
      "epoch      trn_loss   val_loss   accuracy                           \n",
      "    0      3.095271   2.806746   0.486801  \n",
      "\n"
     ]
    }
   ],
   "source": [
    "learner.fit(lr, 1, wds=wd, use_clr=(32,2), cycle_len=1)\n",
    "learner.save('lm_last_fit_full_rev')\n",
    "learner.save_encoder('lm_last_fit_full_rev_encoder')"
   ]
  },
  {
   "cell_type": "code",
   "execution_count": null,
   "metadata": {},
   "outputs": [],
   "source": []
  },
  {
   "cell_type": "code",
   "execution_count": null,
   "metadata": {},
   "outputs": [],
   "source": []
  }
 ],
 "metadata": {
  "kernelspec": {
   "display_name": "Python 3",
   "language": "python",
   "name": "python3"
  },
  "language_info": {
   "codemirror_mode": {
    "name": "ipython",
    "version": 3
   },
   "file_extension": ".py",
   "mimetype": "text/x-python",
   "name": "python",
   "nbconvert_exporter": "python",
   "pygments_lexer": "ipython3",
   "version": "3.6.4"
  }
 },
 "nbformat": 4,
 "nbformat_minor": 2
}
